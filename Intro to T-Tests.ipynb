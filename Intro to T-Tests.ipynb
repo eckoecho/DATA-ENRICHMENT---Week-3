{
 "cells": [
  {
   "cell_type": "code",
   "execution_count": 1,
   "id": "e1a0a290",
   "metadata": {},
   "outputs": [],
   "source": [
    "import pandas as pd\n",
    "import numpy as np\n",
    "import scipy.stats as stats"
   ]
  },
  {
   "cell_type": "code",
   "execution_count": 3,
   "id": "69b566bc",
   "metadata": {},
   "outputs": [
    {
     "name": "stdout",
     "output_type": "stream",
     "text": [
      "For Males (n=27): Mean=68.90\n",
      "For Females (n=23): Mean=64.13\n"
     ]
    }
   ],
   "source": [
    "#Splitting data into random Height samples from male and females\n",
    "df = pd.read_csv(\"https://docs.google.com/spreadsheets/d/e/2PACX-1vRxp-hsw61ck9cpt5ExZIUhvSGT5zYzoUJl_7xr7YF5qZeazC8393q2taqwkDvMxVirgFDJm1WX3uAC/pub?output=csv\")\n",
    "sample = df.sample(n=50, random_state=42)\n",
    "female_height = sample.loc[sample[\"Gender\"]==\"Female\", \"Height\"]\n",
    "male_height = sample.loc[sample[\"Gender\"] ==\"Male\", \"Height\"]\n",
    "## Getting means for gender height\n",
    "print(f\"For Males (n={len(male_height)}): Mean={np.mean(male_height):,.2f}\")\n",
    "print(f\"For Females (n={len(female_height)}): Mean={np.mean(female_height):,.2f}\")      "
   ]
  },
  {
   "cell_type": "markdown",
   "id": "bd009044",
   "metadata": {},
   "source": [
    "# Testing for Outliers\n",
    "\n",
    "z-scores is how many standard deviations a value is from the mean greater than 3 are considered outliers. "
   ]
  },
  {
   "cell_type": "code",
   "execution_count": 5,
   "id": "a28403a1",
   "metadata": {},
   "outputs": [
    {
     "data": {
      "text/plain": [
       "0"
      ]
     },
     "execution_count": 5,
     "metadata": {},
     "output_type": "execute_result"
    }
   ],
   "source": [
    "zscores_f = stats.zscore(female_height)\n",
    "outliers_f = abs(zscores_f)>3\n",
    "np.sum(outliers_f)"
   ]
  },
  {
   "cell_type": "code",
   "execution_count": 6,
   "id": "7c275bb9",
   "metadata": {},
   "outputs": [
    {
     "data": {
      "text/plain": [
       "0"
      ]
     },
     "execution_count": 6,
     "metadata": {},
     "output_type": "execute_result"
    }
   ],
   "source": [
    "zscores_m = stats.zscore(male_height)\n",
    "outliers_m = abs(zscores_m)>3\n",
    "np.sum(outliers_m)"
   ]
  },
  {
   "cell_type": "markdown",
   "id": "d4e3dfe1",
   "metadata": {},
   "source": [
    "There are no outliers in our data.\n",
    "\n"
   ]
  },
  {
   "cell_type": "markdown",
   "id": "c7eb778d",
   "metadata": {},
   "source": [
    "# Testing for Equal Variance with Levene's test"
   ]
  },
  {
   "cell_type": "code",
   "execution_count": 8,
   "id": "95712402",
   "metadata": {},
   "outputs": [
    {
     "data": {
      "text/plain": [
       "LeveneResult(statistic=0.4550154927872889, pvalue=0.5031988559709122)"
      ]
     },
     "execution_count": 8,
     "metadata": {},
     "output_type": "execute_result"
    }
   ],
   "source": [
    "result = stats.levene(female_height, male_height)\n",
    "result"
   ]
  },
  {
   "cell_type": "markdown",
   "id": "ef554f2a",
   "metadata": {},
   "source": [
    "# Independent t-test"
   ]
  },
  {
   "cell_type": "code",
   "execution_count": 10,
   "id": "b30d4d76",
   "metadata": {},
   "outputs": [
    {
     "data": {
      "text/plain": [
       "Ttest_indResult(statistic=-6.700593917991493, pvalue=2.117073603811049e-08)"
      ]
     },
     "execution_count": 10,
     "metadata": {},
     "output_type": "execute_result"
    }
   ],
   "source": [
    "## Final t-test, after confirming we meet the assumptions\n",
    "result = stats.ttest_ind(female_height, male_height)\n",
    "result"
   ]
  },
  {
   "cell_type": "code",
   "execution_count": null,
   "id": "757eeb5c",
   "metadata": {},
   "outputs": [],
   "source": [
    "## is our result significant\n",
    "print(f\"p-value {result.pvalue:,.10f}\")\n",
    "print(f\"Significance {result.pvalue <.05}\")"
   ]
  }
 ],
 "metadata": {
  "kernelspec": {
   "display_name": "Python (dojo-env)",
   "language": "python",
   "name": "dojo-env"
  },
  "language_info": {
   "codemirror_mode": {
    "name": "ipython",
    "version": 3
   },
   "file_extension": ".py",
   "mimetype": "text/x-python",
   "name": "python",
   "nbconvert_exporter": "python",
   "pygments_lexer": "ipython3",
   "version": "3.9.15"
  },
  "toc": {
   "base_numbering": 1,
   "nav_menu": {},
   "number_sections": true,
   "sideBar": true,
   "skip_h1_title": false,
   "title_cell": "Table of Contents",
   "title_sidebar": "Contents",
   "toc_cell": false,
   "toc_position": {},
   "toc_section_display": true,
   "toc_window_display": false
  },
  "varInspector": {
   "cols": {
    "lenName": 16,
    "lenType": 16,
    "lenVar": 40
   },
   "kernels_config": {
    "python": {
     "delete_cmd_postfix": "",
     "delete_cmd_prefix": "del ",
     "library": "var_list.py",
     "varRefreshCmd": "print(var_dic_list())"
    },
    "r": {
     "delete_cmd_postfix": ") ",
     "delete_cmd_prefix": "rm(",
     "library": "var_list.r",
     "varRefreshCmd": "cat(var_dic_list()) "
    }
   },
   "types_to_exclude": [
    "module",
    "function",
    "builtin_function_or_method",
    "instance",
    "_Feature"
   ],
   "window_display": false
  }
 },
 "nbformat": 4,
 "nbformat_minor": 5
}
