{
 "cells": [
  {
   "cell_type": "code",
   "execution_count": 30,
   "id": "526bf266",
   "metadata": {},
   "outputs": [],
   "source": [
    "#Importing necessary libraries\n",
    "import pandas as pd\n",
    "import numpy as np\n",
    "import matplotlib.pyplot as plt\n",
    "import seaborn as sns\n",
    "from tqdm.notebook import tqdm_notebook\n",
    "import os, math, json, time\n",
    "from yelpapi import YelpAPI"
   ]
  },
  {
   "cell_type": "markdown",
   "id": "f1539701",
   "metadata": {},
   "source": [
    "# Credentials and Accessing the API\n"
   ]
  },
  {
   "cell_type": "code",
   "execution_count": 31,
   "id": "e51f8c26",
   "metadata": {},
   "outputs": [],
   "source": [
    "#Loading in API credentials\n",
    "with open(\"/Users/echo/Documents/0424_Data_Enrichment/.secret/yelp_api.json\") as f:\n",
    "    login = json.load(f)\n",
    "# # Instantiate YelpAPI Variable\n",
    "yelp_api = YelpAPI(login[\"api-key\"], timeout_s=5.0)"
   ]
  },
  {
   "cell_type": "markdown",
   "id": "9141f0b0",
   "metadata": {},
   "source": [
    "# Define Search"
   ]
  },
  {
   "cell_type": "code",
   "execution_count": 32,
   "id": "809390c8",
   "metadata": {},
   "outputs": [],
   "source": [
    "#Setting search definitions\n",
    "LOCATION = \"Austin, TX\"\n",
    "TERM = \"dessert\""
   ]
  },
  {
   "cell_type": "code",
   "execution_count": 33,
   "id": "370876bb",
   "metadata": {},
   "outputs": [
    {
     "data": {
      "text/plain": [
       "dict_keys(['businesses', 'total', 'region'])"
      ]
     },
     "execution_count": 33,
     "metadata": {},
     "output_type": "execute_result"
    }
   ],
   "source": [
    "#Searching yelp api\n",
    "results = yelp_api.search_query(location=LOCATION, term=TERM)\n",
    "results.keys()"
   ]
  },
  {
   "cell_type": "code",
   "execution_count": 37,
   "id": "51c58904",
   "metadata": {},
   "outputs": [
    {
     "data": {
      "text/plain": [
       "4300"
      ]
     },
     "execution_count": 37,
     "metadata": {},
     "output_type": "execute_result"
    }
   ],
   "source": [
    "#Getting total results\n",
    "total_results = results[\"total\"]\n",
    "total_results"
   ]
  },
  {
   "cell_type": "code",
   "execution_count": 38,
   "id": "00e62591",
   "metadata": {},
   "outputs": [
    {
     "data": {
      "text/plain": [
       "20"
      ]
     },
     "execution_count": 38,
     "metadata": {},
     "output_type": "execute_result"
    }
   ],
   "source": [
    "#Getting results per page\n",
    "results_per_page = len(results[\"businesses\"])\n",
    "results_per_page"
   ]
  },
  {
   "cell_type": "markdown",
   "id": "f5314db1",
   "metadata": {},
   "source": [
    "# Create JSON File Variable"
   ]
  },
  {
   "cell_type": "code",
   "execution_count": 39,
   "id": "c052116a",
   "metadata": {},
   "outputs": [
    {
     "data": {
      "text/plain": [
       "'Data/results_in_austin.json'"
      ]
     },
     "execution_count": 39,
     "metadata": {},
     "output_type": "execute_result"
    }
   ],
   "source": [
    "JSON_FILE = \"Data/results_in_austin.json\"\n",
    "JSON_FILE"
   ]
  },
  {
   "cell_type": "code",
   "execution_count": 44,
   "id": "8133240e",
   "metadata": {},
   "outputs": [
    {
     "name": "stdout",
     "output_type": "stream",
     "text": [
      "[i] Data/results_in_austin.json not found. Saving empty list to file.\n"
     ]
    }
   ],
   "source": [
    "## Check if JSON_FILE exists\n",
    "file_exists = os.path.isfile(JSON_FILE)\n",
    "## If it does not exist: \n",
    "if file_exists == False:\n",
    "    ## CREATE ANY NEEDED FOLDERS\n",
    "    # Get the Folder Name only\n",
    "    folder = os.path.dirname(JSON_FILE)\n",
    "    if len(folder) > 0:\n",
    "        # create the folder\n",
    "        os.makedirs(folder, exist_ok=True)\n",
    "    \n",
    "    ## INFORM USER AND SAVE EMPTY LIST\n",
    "    print(f\"[i] {JSON_FILE} not found. Saving empty list to file.\")\n",
    "    \n",
    "    # save an empty list\n",
    "    with open(JSON_FILE, \"w\") as f:\n",
    "        json.dump([],f)\n",
    "# If it exists, inform user\n",
    "else:\n",
    "    print(f\"[i] {JSON_FILE} already exists.\")"
   ]
  },
  {
   "cell_type": "markdown",
   "id": "624b9ee8",
   "metadata": {},
   "source": [
    "# Reading in JSON File & Setting Offset"
   ]
  },
  {
   "cell_type": "code",
   "execution_count": 46,
   "id": "934d500d",
   "metadata": {},
   "outputs": [],
   "source": [
    "with open(JSON_FILE, \"r\") as f:\n",
    "    previous_results = json.load(f)\n",
    "## set offset based on previous results\n",
    "n_results = len(previous_results)    "
   ]
  },
  {
   "cell_type": "markdown",
   "id": "06a0b866",
   "metadata": {},
   "source": [
    "# Number of Pages Needed"
   ]
  },
  {
   "cell_type": "code",
   "execution_count": 55,
   "id": "696db2c7",
   "metadata": {},
   "outputs": [
    {
     "data": {
      "text/plain": [
       "215"
      ]
     },
     "execution_count": 55,
     "metadata": {},
     "output_type": "execute_result"
    }
   ],
   "source": [
    "# Use math.ceil to round up for the total number of pages of results.\n",
    "n_pages = math.ceil((total_results/results_per_page))\n",
    "n_pages"
   ]
  },
  {
   "cell_type": "markdown",
   "id": "8ece0bd1",
   "metadata": {},
   "source": [
    "# Creating Function"
   ]
  },
  {
   "cell_type": "code",
   "execution_count": 48,
   "id": "9da776d7",
   "metadata": {},
   "outputs": [],
   "source": [
    "def create_json_file(JSON_FILE, delete_if_exists=False):\n",
    "    ## Check if JSON_FILE exists\n",
    "    file_exists = os.path.isfile(JSON_FILE)\n",
    "    ## If it DOES exist:\n",
    "    if file_exists == True:\n",
    "        ## Check if user wants to delete if exists\n",
    "        if delete_if_exists == True:\n",
    "            print(f\"[!] {JSON_FILE} already exists. Deleting previous file ...\")\n",
    "            ## delete file and confirm it no longer exits.\n",
    "            os.remove(JSON_FILE)\n",
    "            ## Recursive call to function after old file deleted\n",
    "            create_json_file(JSON_FILE, delete_if_exists=False)\n",
    "        else:\n",
    "            print(f\"[i] {JSON_FILE} already exists.\")\n",
    "                \n",
    "                \n",
    "    ## If it does NOT exist:                \n",
    "    else:\n",
    "        ## INFORM USER AND SAVE EMPTY LIST\n",
    "        print(f\"[i] {JSON_FILE} not found. Saving empty list to new file.\")\n",
    "        ## CREATE ANY NEEDED FOLDERS\n",
    "        # Get the Folder Name only\n",
    "        folder = os.path.dirname(JSON_FILE)\n",
    "        ## If JSON_FILE included a folder:\n",
    "        if len(folder) > 0:\n",
    "            # create the folder\n",
    "            os.makedirs(folder, exist_ok=True)\n",
    "            ## Save empty list to start the json file\n",
    "            with open(JSON_FILE, \"w\") as f:\n",
    "                json.dump([],f)"
   ]
  },
  {
   "cell_type": "markdown",
   "id": "f49f9d13",
   "metadata": {},
   "source": [
    "# Using Custom Function"
   ]
  },
  {
   "cell_type": "code",
   "execution_count": 58,
   "id": "60690d8d",
   "metadata": {},
   "outputs": [
    {
     "ename": "SyntaxError",
     "evalue": "invalid syntax (682905662.py, line 12)",
     "output_type": "error",
     "traceback": [
      "\u001b[0;36m  Cell \u001b[0;32mIn [58], line 12\u001b[0;36m\u001b[0m\n\u001b[0;31m    total_results = results[\"total\"]\u001b[0m\n\u001b[0m    ^\u001b[0m\n\u001b[0;31mSyntaxError\u001b[0m\u001b[0;31m:\u001b[0m invalid syntax\n"
     ]
    }
   ],
   "source": [
    "## Create a new empty json file (delete the previous if it exists)\n",
    "create_json_file(JSON_FILE, delete_if_exists=True)\n",
    "## Load previous results and use len of results for offset\n",
    "with open(JSON_FILE, \"r\") as f:\n",
    "    previous_results = json.load(f)\n",
    "## set offset based on previous results\n",
    "n_results = len(previous_results)\n",
    "print(f\"- {n_results} previous results found.\")\n",
    "# use our yelp_api variable's search_query method to perform our API call\n",
    "results = yelp_api.search_query(location=LOCATION, term=TERM, offset=n_results+1\n",
    "## How many results total?\n",
    "total_results = results[\"total\"]\n",
    "## How many did we get the details for?\n",
    "results_per_page = len(results[\"businesses\"])\n",
    "# Use math.ceil to round up for the total number of pages of results.\n",
    "n_pages = math.ceil((results[\"total\"abs]-n_results/results_per_page))\n",
    "n_pages"
   ]
  },
  {
   "cell_type": "markdown",
   "id": "1d67847b",
   "metadata": {},
   "source": [
    "# Query Loop"
   ]
  },
  {
   "cell_type": "code",
   "execution_count": 61,
   "id": "236cd4f4",
   "metadata": {
    "scrolled": true
   },
   "outputs": [
    {
     "data": {
      "application/vnd.jupyter.widget-view+json": {
       "model_id": "75e4bb3b5bfb4004acbec2b551efa524",
       "version_major": 2,
       "version_minor": 0
      },
      "text/plain": [
       "  0%|          | 0/215 [00:00<?, ?it/s]"
      ]
     },
     "metadata": {},
     "output_type": "display_data"
    },
    {
     "ename": "YelpAPIError",
     "evalue": "VALIDATION_ERROR: 1741 is greater than the maximum of 1000",
     "output_type": "error",
     "traceback": [
      "\u001b[0;31m---------------------------------------------------------------------------\u001b[0m",
      "\u001b[0;31mYelpAPIError\u001b[0m                              Traceback (most recent call last)",
      "Cell \u001b[0;32mIn [61], line 7\u001b[0m\n\u001b[1;32m      5\u001b[0m \u001b[38;5;66;03m## save number of results for to use as offset\u001b[39;00m\n\u001b[1;32m      6\u001b[0m n_results \u001b[38;5;241m=\u001b[39m \u001b[38;5;28mlen\u001b[39m(previous_results)\n\u001b[0;32m----> 7\u001b[0m results \u001b[38;5;241m=\u001b[39m \u001b[43myelp_api\u001b[49m\u001b[38;5;241;43m.\u001b[39;49m\u001b[43msearch_query\u001b[49m\u001b[43m(\u001b[49m\u001b[43mlocation\u001b[49m\u001b[38;5;241;43m=\u001b[39;49m\u001b[43mLOCATION\u001b[49m\u001b[43m,\u001b[49m\u001b[43m \u001b[49m\u001b[43mterm\u001b[49m\u001b[38;5;241;43m=\u001b[39;49m\u001b[43mTERM\u001b[49m\u001b[43m,\u001b[49m\u001b[43m \u001b[49m\u001b[43moffset\u001b[49m\u001b[38;5;241;43m=\u001b[39;49m\u001b[43mn_results\u001b[49m\u001b[38;5;241;43m+\u001b[39;49m\u001b[38;5;241;43m1\u001b[39;49m\u001b[43m)\u001b[49m\n\u001b[1;32m      8\u001b[0m \u001b[38;5;66;03m## append new results and save to file    \u001b[39;00m\n\u001b[1;32m      9\u001b[0m previous_results\u001b[38;5;241m.\u001b[39mextend(results[\u001b[38;5;124m\"\u001b[39m\u001b[38;5;124mbusinesses\u001b[39m\u001b[38;5;124m\"\u001b[39m])\n",
      "File \u001b[0;32m/opt/homebrew/Caskroom/miniforge/base/envs/dojo-env/lib/python3.9/site-packages/yelpapi/yelpapi.py:251\u001b[0m, in \u001b[0;36mYelpAPI.search_query\u001b[0;34m(self, **kwargs)\u001b[0m\n\u001b[1;32m    247\u001b[0m \u001b[38;5;28;01mif\u001b[39;00m \u001b[38;5;129;01mnot\u001b[39;00m kwargs\u001b[38;5;241m.\u001b[39mget(\u001b[38;5;124m'\u001b[39m\u001b[38;5;124mlocation\u001b[39m\u001b[38;5;124m'\u001b[39m) \u001b[38;5;129;01mand\u001b[39;00m (\u001b[38;5;129;01mnot\u001b[39;00m kwargs\u001b[38;5;241m.\u001b[39mget(\u001b[38;5;124m'\u001b[39m\u001b[38;5;124mlatitude\u001b[39m\u001b[38;5;124m'\u001b[39m) \u001b[38;5;129;01mor\u001b[39;00m \u001b[38;5;129;01mnot\u001b[39;00m kwargs\u001b[38;5;241m.\u001b[39mget(\u001b[38;5;124m'\u001b[39m\u001b[38;5;124mlongitude\u001b[39m\u001b[38;5;124m'\u001b[39m)):\n\u001b[1;32m    248\u001b[0m     \u001b[38;5;28;01mraise\u001b[39;00m \u001b[38;5;167;01mValueError\u001b[39;00m(\u001b[38;5;124m'\u001b[39m\u001b[38;5;124mA valid location (parameter \u001b[39m\u001b[38;5;124m\"\u001b[39m\u001b[38;5;124mlocation\u001b[39m\u001b[38;5;124m\"\u001b[39m\u001b[38;5;124m) or latitude/longitude combination \u001b[39m\u001b[38;5;124m'\u001b[39m\n\u001b[1;32m    249\u001b[0m                      \u001b[38;5;124m'\u001b[39m\u001b[38;5;124m(parameters \u001b[39m\u001b[38;5;124m\"\u001b[39m\u001b[38;5;124mlatitude\u001b[39m\u001b[38;5;124m\"\u001b[39m\u001b[38;5;124m and \u001b[39m\u001b[38;5;124m\"\u001b[39m\u001b[38;5;124mlongitude\u001b[39m\u001b[38;5;124m\"\u001b[39m\u001b[38;5;124m) must be provided.\u001b[39m\u001b[38;5;124m'\u001b[39m)\n\u001b[0;32m--> 251\u001b[0m \u001b[38;5;28;01mreturn\u001b[39;00m \u001b[38;5;28;43mself\u001b[39;49m\u001b[38;5;241;43m.\u001b[39;49m\u001b[43m_query\u001b[49m\u001b[43m(\u001b[49m\u001b[43mSEARCH_API_URL\u001b[49m\u001b[43m,\u001b[49m\u001b[43m \u001b[49m\u001b[38;5;241;43m*\u001b[39;49m\u001b[38;5;241;43m*\u001b[39;49m\u001b[43mkwargs\u001b[49m\u001b[43m)\u001b[49m\n",
      "File \u001b[0;32m/opt/homebrew/Caskroom/miniforge/base/envs/dojo-env/lib/python3.9/site-packages/yelpapi/yelpapi.py:299\u001b[0m, in \u001b[0;36mYelpAPI._query\u001b[0;34m(self, url, **kwargs)\u001b[0m\n\u001b[1;32m    295\u001b[0m \u001b[38;5;66;03m# Yelp can return one of many different API errors, so check for one of them.\u001b[39;00m\n\u001b[1;32m    296\u001b[0m \u001b[38;5;66;03m# The Yelp Fusion API does not yet have a complete list of errors, but this is on the TODO list; see\u001b[39;00m\n\u001b[1;32m    297\u001b[0m \u001b[38;5;66;03m# https://github.com/Yelp/yelp-fusion/issues/95 for more info.\u001b[39;00m\n\u001b[1;32m    298\u001b[0m \u001b[38;5;28;01mif\u001b[39;00m \u001b[38;5;124m'\u001b[39m\u001b[38;5;124merror\u001b[39m\u001b[38;5;124m'\u001b[39m \u001b[38;5;129;01min\u001b[39;00m response_json:\n\u001b[0;32m--> 299\u001b[0m     \u001b[38;5;28;01mraise\u001b[39;00m YelpAPI\u001b[38;5;241m.\u001b[39mYelpAPIError(\u001b[38;5;124m'\u001b[39m\u001b[38;5;132;01m{}\u001b[39;00m\u001b[38;5;124m: \u001b[39m\u001b[38;5;132;01m{}\u001b[39;00m\u001b[38;5;124m'\u001b[39m\u001b[38;5;241m.\u001b[39mformat(response_json[\u001b[38;5;124m'\u001b[39m\u001b[38;5;124merror\u001b[39m\u001b[38;5;124m'\u001b[39m][\u001b[38;5;124m'\u001b[39m\u001b[38;5;124mcode\u001b[39m\u001b[38;5;124m'\u001b[39m],\n\u001b[1;32m    300\u001b[0m                                                response_json[\u001b[38;5;124m'\u001b[39m\u001b[38;5;124merror\u001b[39m\u001b[38;5;124m'\u001b[39m][\u001b[38;5;124m'\u001b[39m\u001b[38;5;124mdescription\u001b[39m\u001b[38;5;124m'\u001b[39m]))\n\u001b[1;32m    302\u001b[0m \u001b[38;5;66;03m# we got a good response, so return\u001b[39;00m\n\u001b[1;32m    303\u001b[0m \u001b[38;5;28;01mreturn\u001b[39;00m response_json\n",
      "\u001b[0;31mYelpAPIError\u001b[0m: VALIDATION_ERROR: 1741 is greater than the maximum of 1000"
     ]
    }
   ],
   "source": [
    "for i in tqdm_notebook(range(1,n_pages+1)):\n",
    "    ## Read in results in progress file and check the length\n",
    "    with open(JSON_FILE, \"r\") as f:\n",
    "        previous_results = json.load(f)\n",
    "    ## save number of results for to use as offset\n",
    "    n_results = len(previous_results)\n",
    "    results = yelp_api.search_query(location=LOCATION, term=TERM, offset=n_results+1)\n",
    "    ## append new results and save to file    \n",
    "    previous_results.extend(results[\"businesses\"])\n",
    "    # display(previous_results)\n",
    "    with open(JSON_FILE, \"w\") as f:\n",
    "        json.dump(previous_results, f)\n",
    "    time.sleep(.2)    "
   ]
  },
  {
   "cell_type": "markdown",
   "id": "93308659",
   "metadata": {},
   "source": [
    "# JSON File Contents\n",
    "I was able to return the results of 1,741 places before hitting the Yelp API Limit."
   ]
  },
  {
   "cell_type": "code",
   "execution_count": 63,
   "id": "0e33a013",
   "metadata": {},
   "outputs": [
    {
     "name": "stdout",
     "output_type": "stream",
     "text": [
      "<class 'pandas.core.frame.DataFrame'>\n",
      "RangeIndex: 1740 entries, 0 to 1739\n",
      "Data columns (total 16 columns):\n",
      " #   Column         Non-Null Count  Dtype  \n",
      "---  ------         --------------  -----  \n",
      " 0   id             1740 non-null   object \n",
      " 1   alias          1740 non-null   object \n",
      " 2   name           1740 non-null   object \n",
      " 3   image_url      1740 non-null   object \n",
      " 4   is_closed      1740 non-null   bool   \n",
      " 5   url            1740 non-null   object \n",
      " 6   review_count   1740 non-null   int64  \n",
      " 7   categories     1740 non-null   object \n",
      " 8   rating         1740 non-null   float64\n",
      " 9   coordinates    1740 non-null   object \n",
      " 10  transactions   1740 non-null   object \n",
      " 11  price          1044 non-null   object \n",
      " 12  location       1740 non-null   object \n",
      " 13  phone          1740 non-null   object \n",
      " 14  display_phone  1740 non-null   object \n",
      " 15  distance       1740 non-null   float64\n",
      "dtypes: bool(1), float64(2), int64(1), object(12)\n",
      "memory usage: 205.7+ KB\n"
     ]
    }
   ],
   "source": [
    "df = pd.read_json(JSON_FILE)\n",
    "df.info()"
   ]
  },
  {
   "cell_type": "markdown",
   "id": "5eda6f0e",
   "metadata": {},
   "source": [
    "# Converting to .csv.gz"
   ]
  },
  {
   "cell_type": "code",
   "execution_count": null,
   "id": "9c62811a",
   "metadata": {},
   "outputs": [],
   "source": [
    "#convert the file to .csv.gz\n",
    "# csv_file = JSON_FILE.replace(\".json\",\".csv.gz\")\n",
    "# csv_file\n",
    "#Save it as a compressed csv (to save space)\n",
    "#df.to_csv(csv_file, compression=\"gzip\", index=False)"
   ]
  }
 ],
 "metadata": {
  "kernelspec": {
   "display_name": "Python (dojo-env)",
   "language": "python",
   "name": "dojo-env"
  },
  "language_info": {
   "codemirror_mode": {
    "name": "ipython",
    "version": 3
   },
   "file_extension": ".py",
   "mimetype": "text/x-python",
   "name": "python",
   "nbconvert_exporter": "python",
   "pygments_lexer": "ipython3",
   "version": "3.9.15"
  },
  "toc": {
   "base_numbering": 1,
   "nav_menu": {},
   "number_sections": true,
   "sideBar": true,
   "skip_h1_title": false,
   "title_cell": "Table of Contents",
   "title_sidebar": "Contents",
   "toc_cell": false,
   "toc_position": {},
   "toc_section_display": true,
   "toc_window_display": false
  },
  "varInspector": {
   "cols": {
    "lenName": 16,
    "lenType": 16,
    "lenVar": 40
   },
   "kernels_config": {
    "python": {
     "delete_cmd_postfix": "",
     "delete_cmd_prefix": "del ",
     "library": "var_list.py",
     "varRefreshCmd": "print(var_dic_list())"
    },
    "r": {
     "delete_cmd_postfix": ") ",
     "delete_cmd_prefix": "rm(",
     "library": "var_list.r",
     "varRefreshCmd": "cat(var_dic_list()) "
    }
   },
   "types_to_exclude": [
    "module",
    "function",
    "builtin_function_or_method",
    "instance",
    "_Feature"
   ],
   "window_display": false
  }
 },
 "nbformat": 4,
 "nbformat_minor": 5
}
