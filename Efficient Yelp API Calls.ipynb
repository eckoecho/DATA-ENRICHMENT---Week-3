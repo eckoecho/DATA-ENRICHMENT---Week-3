{
 "cells": [
  {
   "cell_type": "markdown",
   "id": "b104324b",
   "metadata": {},
   "source": [
    "# Yelp Search in Austin, TX"
   ]
  },
  {
   "cell_type": "code",
   "execution_count": 118,
   "id": "09dbcbf4",
   "metadata": {},
   "outputs": [],
   "source": [
    "#Importing necessary libraries\n",
    "import pandas as pd\n",
    "import numpy as np\n",
    "import matplotlib.pyplot as plt\n",
    "import seaborn as sns\n",
    "from tqdm.notebook import tqdm_notebook\n",
    "import os, math, json, time\n",
    "from yelpapi import YelpAPI"
   ]
  },
  {
   "cell_type": "markdown",
   "id": "e543612c",
   "metadata": {},
   "source": [
    "# Credentials and Accessing the API\n"
   ]
  },
  {
   "cell_type": "code",
   "execution_count": 119,
   "id": "89b112ec",
   "metadata": {},
   "outputs": [],
   "source": [
    "#Loading in API credentials\n",
    "with open(\"/Users/echo/Documents/0424_Data_Enrichment/.secret/yelp_api.json\") as f:\n",
    "    login = json.load(f)\n",
    "# # Instantiate YelpAPI Variable\n",
    "yelp_api = YelpAPI(login[\"api-key\"], timeout_s=5.0)"
   ]
  },
  {
   "cell_type": "markdown",
   "id": "7c1e2d2d",
   "metadata": {},
   "source": [
    "# Define Search"
   ]
  },
  {
   "cell_type": "code",
   "execution_count": 120,
   "id": "8023c7df",
   "metadata": {},
   "outputs": [],
   "source": [
    "#Setting search definitions\n",
    "LOCATION = \"Austin, TX\"\n",
    "TERM = \"dessert\""
   ]
  },
  {
   "cell_type": "code",
   "execution_count": 121,
   "id": "f5612c6d",
   "metadata": {},
   "outputs": [
    {
     "data": {
      "text/plain": [
       "dict_keys(['businesses', 'total', 'region'])"
      ]
     },
     "execution_count": 121,
     "metadata": {},
     "output_type": "execute_result"
    }
   ],
   "source": [
    "#Searching yelp api\n",
    "results = yelp_api.search_query(location=LOCATION, term=TERM)\n",
    "results.keys()"
   ]
  },
  {
   "cell_type": "code",
   "execution_count": 122,
   "id": "49a37ead",
   "metadata": {},
   "outputs": [
    {
     "data": {
      "text/plain": [
       "3300"
      ]
     },
     "execution_count": 122,
     "metadata": {},
     "output_type": "execute_result"
    }
   ],
   "source": [
    "#Getting total results\n",
    "total_results = results[\"total\"]\n",
    "total_results"
   ]
  },
  {
   "cell_type": "code",
   "execution_count": 123,
   "id": "b4af0fd8",
   "metadata": {},
   "outputs": [
    {
     "data": {
      "text/plain": [
       "20"
      ]
     },
     "execution_count": 123,
     "metadata": {},
     "output_type": "execute_result"
    }
   ],
   "source": [
    "#Getting results per page\n",
    "results_per_page = len(results[\"businesses\"])\n",
    "results_per_page"
   ]
  },
  {
   "cell_type": "markdown",
   "id": "4db7bd8f",
   "metadata": {},
   "source": [
    "# Create JSON File Variable"
   ]
  },
  {
   "cell_type": "code",
   "execution_count": 124,
   "id": "dbc11494",
   "metadata": {},
   "outputs": [
    {
     "data": {
      "text/plain": [
       "'Data/results_in_austin.json'"
      ]
     },
     "execution_count": 124,
     "metadata": {},
     "output_type": "execute_result"
    }
   ],
   "source": [
    "JSON_FILE = \"Data/results_in_austin.json\"\n",
    "JSON_FILE"
   ]
  },
  {
   "cell_type": "code",
   "execution_count": 125,
   "id": "c58bf322",
   "metadata": {},
   "outputs": [
    {
     "name": "stdout",
     "output_type": "stream",
     "text": [
      "[i] Data/results_in_austin.json already exists.\n"
     ]
    }
   ],
   "source": [
    "## Check if JSON_FILE exists\n",
    "file_exists = os.path.isfile(JSON_FILE)\n",
    "## If it does not exist: \n",
    "if file_exists == False:\n",
    "    ## CREATE ANY NEEDED FOLDERS\n",
    "    # Get the Folder Name only\n",
    "    folder = os.path.dirname(JSON_FILE)\n",
    "    if len(folder) > 0:\n",
    "        # create the folder\n",
    "        os.makedirs(folder, exist_ok=True)\n",
    "    \n",
    "    ## INFORM USER AND SAVE EMPTY LIST\n",
    "    print(f\"[i] {JSON_FILE} not found. Saving empty list to file.\")\n",
    "    \n",
    "    # save an empty list\n",
    "    with open(JSON_FILE, \"w\") as f:\n",
    "        json.dump([],f)\n",
    "# If it exists, inform user\n",
    "else:\n",
    "    print(f\"[i] {JSON_FILE} already exists.\")"
   ]
  },
  {
   "cell_type": "markdown",
   "id": "fc29fdc6",
   "metadata": {},
   "source": [
    "# Number of Pages Needed"
   ]
  },
  {
   "cell_type": "code",
   "execution_count": 126,
   "id": "75680e6e",
   "metadata": {},
   "outputs": [
    {
     "data": {
      "text/plain": [
       "165"
      ]
     },
     "execution_count": 126,
     "metadata": {},
     "output_type": "execute_result"
    }
   ],
   "source": [
    "# Use math.ceil to round up for the total number of pages of results.\n",
    "n_pages = math.ceil((total_results/results_per_page))\n",
    "n_pages"
   ]
  },
  {
   "cell_type": "markdown",
   "id": "f66d93ee",
   "metadata": {},
   "source": [
    "# Creating Function"
   ]
  },
  {
   "cell_type": "code",
   "execution_count": 127,
   "id": "84ea82bc",
   "metadata": {},
   "outputs": [],
   "source": [
    "def create_json_file(JSON_FILE, delete_if_exists=False):\n",
    "    ## Check if JSON_FILE exists\n",
    "    file_exists = os.path.isfile(JSON_FILE)\n",
    "    ## If it DOES exist:\n",
    "    if file_exists == True:\n",
    "        ## Check if user wants to delete if exists\n",
    "        if delete_if_exists == True:\n",
    "            print(f\"[!] {JSON_FILE} already exists. Deleting previous file ...\")\n",
    "            ## delete file and confirm it no longer exits.\n",
    "            os.remove(JSON_FILE)\n",
    "            ## Recursive call to function after old file deleted\n",
    "            create_json_file(JSON_FILE, delete_if_exists=False)\n",
    "        else:\n",
    "            print(f\"[i] {JSON_FILE} already exists.\")\n",
    "                \n",
    "                \n",
    "    ## If it does NOT exist:                \n",
    "    else:\n",
    "        ## INFORM USER AND SAVE EMPTY LIST\n",
    "        print(f\"[i] {JSON_FILE} not found. Saving empty list to new file.\")\n",
    "        ## CREATE ANY NEEDED FOLDERS\n",
    "        # Get the Folder Name only\n",
    "        folder = os.path.dirname(JSON_FILE)\n",
    "        ## If JSON_FILE included a folder:\n",
    "        if len(folder) > 0:\n",
    "            # create the folder\n",
    "            os.makedirs(folder, exist_ok=True)\n",
    "            ## Save empty list to start the json file\n",
    "            with open(JSON_FILE, \"w\") as f:\n",
    "                json.dump([],f)"
   ]
  },
  {
   "cell_type": "markdown",
   "id": "ed9f1fcb",
   "metadata": {},
   "source": [
    "# Using Custom Function"
   ]
  },
  {
   "cell_type": "code",
   "execution_count": 128,
   "id": "8579532b",
   "metadata": {},
   "outputs": [
    {
     "name": "stdout",
     "output_type": "stream",
     "text": [
      "[!] Data/results_in_austin.json already exists. Deleting previous file ...\n",
      "[i] Data/results_in_austin.json not found. Saving empty list to new file.\n",
      "- 0 previous results found.\n"
     ]
    },
    {
     "data": {
      "text/plain": [
       "3300"
      ]
     },
     "execution_count": 128,
     "metadata": {},
     "output_type": "execute_result"
    }
   ],
   "source": [
    "## Create a new empty json file (delete the previous if it exists)\n",
    "create_json_file(JSON_FILE, delete_if_exists=True)\n",
    "## Load previous results and use len of results for offset\n",
    "with open(JSON_FILE, \"r\") as f:\n",
    "    previous_results = json.load(f)\n",
    "## set offset based on previous results\n",
    "n_results = len(previous_results)\n",
    "print(f\"- {n_results} previous results found.\")\n",
    "# use our yelp_api variable's search_query method to perform our API call\n",
    "results = yelp_api.search_query(location=LOCATION, term=TERM, offset=n_results+1)\n",
    "## How many results total?\n",
    "total_results = results[\"total\"]\n",
    "## How many did we get the details for?\n",
    "results_per_page = len(results[\"businesses\"])\n",
    "# Use math.ceil to round up for the total number of pages of results.\n",
    "n_pages = math.ceil((results[\"total\"]-n_results/results_per_page))\n",
    "n_pages"
   ]
  },
  {
   "cell_type": "markdown",
   "id": "7b16eaa6",
   "metadata": {},
   "source": [
    "# Query Loop"
   ]
  },
  {
   "cell_type": "code",
   "execution_count": 129,
   "id": "b3401d58",
   "metadata": {},
   "outputs": [
    {
     "data": {
      "application/vnd.jupyter.widget-view+json": {
       "model_id": "fee9c47f7fe14091b8a3288868fb57ff",
       "version_major": 2,
       "version_minor": 0
      },
      "text/plain": [
       "  0%|          | 0/3300 [00:00<?, ?it/s]"
      ]
     },
     "metadata": {},
     "output_type": "display_data"
    },
    {
     "name": "stdout",
     "output_type": "stream",
     "text": [
      "0\n",
      "20\n",
      "40\n",
      "60\n",
      "80\n",
      "100\n",
      "120\n",
      "140\n",
      "160\n",
      "180\n",
      "200\n",
      "220\n",
      "240\n",
      "260\n",
      "280\n",
      "300\n",
      "320\n",
      "340\n",
      "360\n",
      "380\n",
      "400\n",
      "420\n",
      "440\n",
      "460\n",
      "480\n",
      "500\n",
      "520\n",
      "540\n",
      "560\n",
      "580\n",
      "600\n",
      "620\n",
      "640\n",
      "660\n",
      "680\n",
      "700\n",
      "720\n",
      "740\n",
      "760\n",
      "780\n",
      "800\n",
      "820\n",
      "840\n",
      "860\n",
      "880\n",
      "900\n",
      "920\n",
      "940\n",
      "960\n",
      "980\n",
      "1000\n",
      "Exceeded 1000 api calls. Stopping loop.\n"
     ]
    }
   ],
   "source": [
    "for i in tqdm_notebook(range(1,n_pages+1)):\n",
    "    \n",
    "    ## Read in results in progress file and check the length\n",
    "    with open(JSON_FILE, 'r') as f:\n",
    "        previous_results = json.load(f)\n",
    "    ## save number of results for to use as offset\n",
    "    n_results = len(previous_results)\n",
    "    print(n_results)\n",
    "    \n",
    "    if (n_results + results_per_page) > 1000:\n",
    "        print('Exceeded 1000 api calls. Stopping loop.')\n",
    "        break\n",
    "    \n",
    "    ## use n_results as the OFFSET \n",
    "    results = yelp_api.search_query(location=LOCATION,\n",
    "                                    term=TERM, \n",
    "                                    offset=n_results)\n",
    "\n",
    "    \n",
    "    ## append new results and save to file\n",
    "    previous_results.extend(results['businesses'])\n",
    "\n",
    "    # display(previous_results)\n",
    "    with open(JSON_FILE,'w') as f:\n",
    "        json.dump(previous_results,f)\n",
    "\n",
    "    time.sleep(.2)\n",
    "\n"
   ]
  },
  {
   "cell_type": "markdown",
   "id": "a694678f",
   "metadata": {},
   "source": [
    "# JSON File Contents\n",
    "I was able to return the results of 1,741 places before hitting the Yelp API Limit."
   ]
  },
  {
   "cell_type": "code",
   "execution_count": 130,
   "id": "246ed659",
   "metadata": {},
   "outputs": [
    {
     "data": {
      "text/html": [
       "<div>\n",
       "<style scoped>\n",
       "    .dataframe tbody tr th:only-of-type {\n",
       "        vertical-align: middle;\n",
       "    }\n",
       "\n",
       "    .dataframe tbody tr th {\n",
       "        vertical-align: top;\n",
       "    }\n",
       "\n",
       "    .dataframe thead th {\n",
       "        text-align: right;\n",
       "    }\n",
       "</style>\n",
       "<table border=\"1\" class=\"dataframe\">\n",
       "  <thead>\n",
       "    <tr style=\"text-align: right;\">\n",
       "      <th></th>\n",
       "      <th>id</th>\n",
       "      <th>alias</th>\n",
       "      <th>name</th>\n",
       "      <th>image_url</th>\n",
       "      <th>is_closed</th>\n",
       "      <th>url</th>\n",
       "      <th>review_count</th>\n",
       "      <th>categories</th>\n",
       "      <th>rating</th>\n",
       "      <th>coordinates</th>\n",
       "      <th>transactions</th>\n",
       "      <th>location</th>\n",
       "      <th>phone</th>\n",
       "      <th>display_phone</th>\n",
       "      <th>distance</th>\n",
       "      <th>price</th>\n",
       "    </tr>\n",
       "  </thead>\n",
       "  <tbody>\n",
       "    <tr>\n",
       "      <th>0</th>\n",
       "      <td>l01HLUtX0_D-w0pfIxi2AA</td>\n",
       "      <td>uncle-tetsu-austin</td>\n",
       "      <td>Uncle Tetsu</td>\n",
       "      <td>https://s3-media2.fl.yelpcdn.com/bphoto/UdApoX...</td>\n",
       "      <td>False</td>\n",
       "      <td>https://www.yelp.com/biz/uncle-tetsu-austin?ad...</td>\n",
       "      <td>11</td>\n",
       "      <td>[{'alias': 'desserts', 'title': 'Desserts'}]</td>\n",
       "      <td>4.5</td>\n",
       "      <td>{'latitude': 30.336683909673457, 'longitude': ...</td>\n",
       "      <td>[]</td>\n",
       "      <td>{'address1': '6929 Airport Blvd', 'address2': ...</td>\n",
       "      <td>+17372738639</td>\n",
       "      <td>(737) 273-8639</td>\n",
       "      <td>4559.922850</td>\n",
       "      <td>NaN</td>\n",
       "    </tr>\n",
       "    <tr>\n",
       "      <th>1</th>\n",
       "      <td>BaOt2n1PawRKbwlDiuh14w</td>\n",
       "      <td>sweet-memes-austin-austin</td>\n",
       "      <td>Sweet Memes - Austin</td>\n",
       "      <td>https://s3-media4.fl.yelpcdn.com/bphoto/3uxbhT...</td>\n",
       "      <td>False</td>\n",
       "      <td>https://www.yelp.com/biz/sweet-memes-austin-au...</td>\n",
       "      <td>96</td>\n",
       "      <td>[{'alias': 'desserts', 'title': 'Desserts'}, {...</td>\n",
       "      <td>4.5</td>\n",
       "      <td>{'latitude': 30.22602, 'longitude': -97.76184}</td>\n",
       "      <td>[]</td>\n",
       "      <td>{'address1': '3801 S Congress Ave', 'address2'...</td>\n",
       "      <td>+15128933389</td>\n",
       "      <td>(512) 893-3389</td>\n",
       "      <td>9198.419727</td>\n",
       "      <td>$$</td>\n",
       "    </tr>\n",
       "    <tr>\n",
       "      <th>2</th>\n",
       "      <td>3sLc73JikDYNwE3vd7-cZw</td>\n",
       "      <td>gourdoughs-big-fat-donuts-austin</td>\n",
       "      <td>Gourdough's Big Fat Donuts</td>\n",
       "      <td>https://s3-media1.fl.yelpcdn.com/bphoto/GKh1IY...</td>\n",
       "      <td>False</td>\n",
       "      <td>https://www.yelp.com/biz/gourdoughs-big-fat-do...</td>\n",
       "      <td>3769</td>\n",
       "      <td>[{'alias': 'donuts', 'title': 'Donuts'}]</td>\n",
       "      <td>4.5</td>\n",
       "      <td>{'latitude': 30.24968, 'longitude': -97.75474}</td>\n",
       "      <td>[pickup, delivery]</td>\n",
       "      <td>{'address1': '1503 South 1st St', 'address2': ...</td>\n",
       "      <td>+15129129070</td>\n",
       "      <td>(512) 912-9070</td>\n",
       "      <td>6525.238348</td>\n",
       "      <td>$$</td>\n",
       "    </tr>\n",
       "    <tr>\n",
       "      <th>3</th>\n",
       "      <td>HPYRea5mrOFv9VvOdP4AsQ</td>\n",
       "      <td>pie-bar-austin</td>\n",
       "      <td>Pie Bar</td>\n",
       "      <td>https://s3-media2.fl.yelpcdn.com/bphoto/IImh3h...</td>\n",
       "      <td>False</td>\n",
       "      <td>https://www.yelp.com/biz/pie-bar-austin?adjust...</td>\n",
       "      <td>92</td>\n",
       "      <td>[{'alias': 'desserts', 'title': 'Desserts'}, {...</td>\n",
       "      <td>4.5</td>\n",
       "      <td>{'latitude': 30.16954977494928, 'longitude': -...</td>\n",
       "      <td>[pickup, delivery]</td>\n",
       "      <td>{'address1': '8900 S Congress Ave', 'address2'...</td>\n",
       "      <td>+15125820098</td>\n",
       "      <td>(512) 582-0098</td>\n",
       "      <td>15837.882592</td>\n",
       "      <td>$$</td>\n",
       "    </tr>\n",
       "    <tr>\n",
       "      <th>4</th>\n",
       "      <td>hYWsMDz0ms7TOnFTcsxYcw</td>\n",
       "      <td>manolis-ice-cream-pastries-and-cakes-austin</td>\n",
       "      <td>Manolis Ice Cream, Pastries, &amp; Cakes</td>\n",
       "      <td>https://s3-media2.fl.yelpcdn.com/bphoto/nJYF1s...</td>\n",
       "      <td>False</td>\n",
       "      <td>https://www.yelp.com/biz/manolis-ice-cream-pas...</td>\n",
       "      <td>523</td>\n",
       "      <td>[{'alias': 'desserts', 'title': 'Desserts'}, {...</td>\n",
       "      <td>5.0</td>\n",
       "      <td>{'latitude': 30.235612131073413, 'longitude': ...</td>\n",
       "      <td>[delivery]</td>\n",
       "      <td>{'address1': '8907 Circle Dr', 'address2': Non...</td>\n",
       "      <td>+15123875045</td>\n",
       "      <td>(512) 387-5045</td>\n",
       "      <td>17559.809589</td>\n",
       "      <td>$$</td>\n",
       "    </tr>\n",
       "    <tr>\n",
       "      <th>...</th>\n",
       "      <td>...</td>\n",
       "      <td>...</td>\n",
       "      <td>...</td>\n",
       "      <td>...</td>\n",
       "      <td>...</td>\n",
       "      <td>...</td>\n",
       "      <td>...</td>\n",
       "      <td>...</td>\n",
       "      <td>...</td>\n",
       "      <td>...</td>\n",
       "      <td>...</td>\n",
       "      <td>...</td>\n",
       "      <td>...</td>\n",
       "      <td>...</td>\n",
       "      <td>...</td>\n",
       "      <td>...</td>\n",
       "    </tr>\n",
       "    <tr>\n",
       "      <th>995</th>\n",
       "      <td>g67nMRFiR2cJHk2qinbH_w</td>\n",
       "      <td>shan-china-bistro-and-bar-no-title-2</td>\n",
       "      <td>Shan China Bistro and Bar</td>\n",
       "      <td>https://s3-media1.fl.yelpcdn.com/bphoto/pVtUpX...</td>\n",
       "      <td>False</td>\n",
       "      <td>https://www.yelp.com/biz/shan-china-bistro-and...</td>\n",
       "      <td>67</td>\n",
       "      <td>[{'alias': 'chinese', 'title': 'Chinese'}, {'a...</td>\n",
       "      <td>4.0</td>\n",
       "      <td>{'latitude': 30.381386, 'longitude': -97.945108}</td>\n",
       "      <td>[delivery, pickup]</td>\n",
       "      <td>{'address1': '1700 Ranch Rd 620 N', 'address2'...</td>\n",
       "      <td>+15122849909</td>\n",
       "      <td>(512) 284-9909</td>\n",
       "      <td>19881.715843</td>\n",
       "      <td>NaN</td>\n",
       "    </tr>\n",
       "    <tr>\n",
       "      <th>996</th>\n",
       "      <td>KOesD8BicfGM3ArkbqaTxA</td>\n",
       "      <td>tandoori-lounge-austin</td>\n",
       "      <td>Tandoori Lounge</td>\n",
       "      <td>https://s3-media3.fl.yelpcdn.com/bphoto/-HF7Jy...</td>\n",
       "      <td>False</td>\n",
       "      <td>https://www.yelp.com/biz/tandoori-lounge-austi...</td>\n",
       "      <td>37</td>\n",
       "      <td>[{'alias': 'indpak', 'title': 'Indian'}]</td>\n",
       "      <td>4.5</td>\n",
       "      <td>{'latitude': 30.21426, 'longitude': -97.83208}</td>\n",
       "      <td>[delivery, pickup]</td>\n",
       "      <td>{'address1': '3601 W William Canon Dr', 'addre...</td>\n",
       "      <td>+15126084013</td>\n",
       "      <td>(512) 608-4013</td>\n",
       "      <td>12379.078297</td>\n",
       "      <td>$$</td>\n",
       "    </tr>\n",
       "    <tr>\n",
       "      <th>997</th>\n",
       "      <td>0B63WxEUmCX0ZehLKfZySA</td>\n",
       "      <td>masa-y-más-austin</td>\n",
       "      <td>Masa y Más</td>\n",
       "      <td>https://s3-media2.fl.yelpcdn.com/bphoto/qs4pef...</td>\n",
       "      <td>False</td>\n",
       "      <td>https://www.yelp.com/biz/masa-y-m%C3%A1s-austi...</td>\n",
       "      <td>117</td>\n",
       "      <td>[{'alias': 'tacos', 'title': 'Tacos'}]</td>\n",
       "      <td>4.0</td>\n",
       "      <td>{'latitude': 30.24966, 'longitude': -97.76647}</td>\n",
       "      <td>[]</td>\n",
       "      <td>{'address1': '1817 S Lamar Blvd', 'address2': ...</td>\n",
       "      <td>+15123541655</td>\n",
       "      <td>(512) 354-1655</td>\n",
       "      <td>6227.830911</td>\n",
       "      <td>NaN</td>\n",
       "    </tr>\n",
       "    <tr>\n",
       "      <th>998</th>\n",
       "      <td>cm5YHAOL_T1jhSDFRfn3Ww</td>\n",
       "      <td>d-jour-austin-3</td>\n",
       "      <td>D'Jour</td>\n",
       "      <td>https://s3-media4.fl.yelpcdn.com/bphoto/mnis76...</td>\n",
       "      <td>False</td>\n",
       "      <td>https://www.yelp.com/biz/d-jour-austin-3?adjus...</td>\n",
       "      <td>27</td>\n",
       "      <td>[{'alias': 'catering', 'title': 'Caterers'}, {...</td>\n",
       "      <td>5.0</td>\n",
       "      <td>{'latitude': 30.263265437947215, 'longitude': ...</td>\n",
       "      <td>[]</td>\n",
       "      <td>{'address1': '', 'address2': '', 'address3': '...</td>\n",
       "      <td>+15126532381</td>\n",
       "      <td>(512) 653-2381</td>\n",
       "      <td>6250.206821</td>\n",
       "      <td>NaN</td>\n",
       "    </tr>\n",
       "    <tr>\n",
       "      <th>999</th>\n",
       "      <td>z6mbatIyCTaAxIvf_qzeIw</td>\n",
       "      <td>texas-coffee-traders-austin</td>\n",
       "      <td>Texas Coffee Traders</td>\n",
       "      <td>https://s3-media2.fl.yelpcdn.com/bphoto/SJDdNt...</td>\n",
       "      <td>False</td>\n",
       "      <td>https://www.yelp.com/biz/texas-coffee-traders-...</td>\n",
       "      <td>275</td>\n",
       "      <td>[{'alias': 'coffeeroasteries', 'title': 'Coffe...</td>\n",
       "      <td>5.0</td>\n",
       "      <td>{'latitude': 30.26202, 'longitude': -97.72873}</td>\n",
       "      <td>[delivery]</td>\n",
       "      <td>{'address1': '1400 E 4th St', 'address2': '', ...</td>\n",
       "      <td>+15124762279</td>\n",
       "      <td>(512) 476-2279</td>\n",
       "      <td>5541.837267</td>\n",
       "      <td>$</td>\n",
       "    </tr>\n",
       "  </tbody>\n",
       "</table>\n",
       "<p>1000 rows × 16 columns</p>\n",
       "</div>"
      ],
      "text/plain": [
       "                         id                                        alias  \\\n",
       "0    l01HLUtX0_D-w0pfIxi2AA                           uncle-tetsu-austin   \n",
       "1    BaOt2n1PawRKbwlDiuh14w                    sweet-memes-austin-austin   \n",
       "2    3sLc73JikDYNwE3vd7-cZw             gourdoughs-big-fat-donuts-austin   \n",
       "3    HPYRea5mrOFv9VvOdP4AsQ                               pie-bar-austin   \n",
       "4    hYWsMDz0ms7TOnFTcsxYcw  manolis-ice-cream-pastries-and-cakes-austin   \n",
       "..                      ...                                          ...   \n",
       "995  g67nMRFiR2cJHk2qinbH_w         shan-china-bistro-and-bar-no-title-2   \n",
       "996  KOesD8BicfGM3ArkbqaTxA                       tandoori-lounge-austin   \n",
       "997  0B63WxEUmCX0ZehLKfZySA                            masa-y-más-austin   \n",
       "998  cm5YHAOL_T1jhSDFRfn3Ww                              d-jour-austin-3   \n",
       "999  z6mbatIyCTaAxIvf_qzeIw                  texas-coffee-traders-austin   \n",
       "\n",
       "                                     name  \\\n",
       "0                             Uncle Tetsu   \n",
       "1                    Sweet Memes - Austin   \n",
       "2              Gourdough's Big Fat Donuts   \n",
       "3                                 Pie Bar   \n",
       "4    Manolis Ice Cream, Pastries, & Cakes   \n",
       "..                                    ...   \n",
       "995             Shan China Bistro and Bar   \n",
       "996                       Tandoori Lounge   \n",
       "997                            Masa y Más   \n",
       "998                                D'Jour   \n",
       "999                  Texas Coffee Traders   \n",
       "\n",
       "                                             image_url  is_closed  \\\n",
       "0    https://s3-media2.fl.yelpcdn.com/bphoto/UdApoX...      False   \n",
       "1    https://s3-media4.fl.yelpcdn.com/bphoto/3uxbhT...      False   \n",
       "2    https://s3-media1.fl.yelpcdn.com/bphoto/GKh1IY...      False   \n",
       "3    https://s3-media2.fl.yelpcdn.com/bphoto/IImh3h...      False   \n",
       "4    https://s3-media2.fl.yelpcdn.com/bphoto/nJYF1s...      False   \n",
       "..                                                 ...        ...   \n",
       "995  https://s3-media1.fl.yelpcdn.com/bphoto/pVtUpX...      False   \n",
       "996  https://s3-media3.fl.yelpcdn.com/bphoto/-HF7Jy...      False   \n",
       "997  https://s3-media2.fl.yelpcdn.com/bphoto/qs4pef...      False   \n",
       "998  https://s3-media4.fl.yelpcdn.com/bphoto/mnis76...      False   \n",
       "999  https://s3-media2.fl.yelpcdn.com/bphoto/SJDdNt...      False   \n",
       "\n",
       "                                                   url  review_count  \\\n",
       "0    https://www.yelp.com/biz/uncle-tetsu-austin?ad...            11   \n",
       "1    https://www.yelp.com/biz/sweet-memes-austin-au...            96   \n",
       "2    https://www.yelp.com/biz/gourdoughs-big-fat-do...          3769   \n",
       "3    https://www.yelp.com/biz/pie-bar-austin?adjust...            92   \n",
       "4    https://www.yelp.com/biz/manolis-ice-cream-pas...           523   \n",
       "..                                                 ...           ...   \n",
       "995  https://www.yelp.com/biz/shan-china-bistro-and...            67   \n",
       "996  https://www.yelp.com/biz/tandoori-lounge-austi...            37   \n",
       "997  https://www.yelp.com/biz/masa-y-m%C3%A1s-austi...           117   \n",
       "998  https://www.yelp.com/biz/d-jour-austin-3?adjus...            27   \n",
       "999  https://www.yelp.com/biz/texas-coffee-traders-...           275   \n",
       "\n",
       "                                            categories  rating  \\\n",
       "0         [{'alias': 'desserts', 'title': 'Desserts'}]     4.5   \n",
       "1    [{'alias': 'desserts', 'title': 'Desserts'}, {...     4.5   \n",
       "2             [{'alias': 'donuts', 'title': 'Donuts'}]     4.5   \n",
       "3    [{'alias': 'desserts', 'title': 'Desserts'}, {...     4.5   \n",
       "4    [{'alias': 'desserts', 'title': 'Desserts'}, {...     5.0   \n",
       "..                                                 ...     ...   \n",
       "995  [{'alias': 'chinese', 'title': 'Chinese'}, {'a...     4.0   \n",
       "996           [{'alias': 'indpak', 'title': 'Indian'}]     4.5   \n",
       "997             [{'alias': 'tacos', 'title': 'Tacos'}]     4.0   \n",
       "998  [{'alias': 'catering', 'title': 'Caterers'}, {...     5.0   \n",
       "999  [{'alias': 'coffeeroasteries', 'title': 'Coffe...     5.0   \n",
       "\n",
       "                                           coordinates        transactions  \\\n",
       "0    {'latitude': 30.336683909673457, 'longitude': ...                  []   \n",
       "1       {'latitude': 30.22602, 'longitude': -97.76184}                  []   \n",
       "2       {'latitude': 30.24968, 'longitude': -97.75474}  [pickup, delivery]   \n",
       "3    {'latitude': 30.16954977494928, 'longitude': -...  [pickup, delivery]   \n",
       "4    {'latitude': 30.235612131073413, 'longitude': ...          [delivery]   \n",
       "..                                                 ...                 ...   \n",
       "995   {'latitude': 30.381386, 'longitude': -97.945108}  [delivery, pickup]   \n",
       "996     {'latitude': 30.21426, 'longitude': -97.83208}  [delivery, pickup]   \n",
       "997     {'latitude': 30.24966, 'longitude': -97.76647}                  []   \n",
       "998  {'latitude': 30.263265437947215, 'longitude': ...                  []   \n",
       "999     {'latitude': 30.26202, 'longitude': -97.72873}          [delivery]   \n",
       "\n",
       "                                              location         phone  \\\n",
       "0    {'address1': '6929 Airport Blvd', 'address2': ...  +17372738639   \n",
       "1    {'address1': '3801 S Congress Ave', 'address2'...  +15128933389   \n",
       "2    {'address1': '1503 South 1st St', 'address2': ...  +15129129070   \n",
       "3    {'address1': '8900 S Congress Ave', 'address2'...  +15125820098   \n",
       "4    {'address1': '8907 Circle Dr', 'address2': Non...  +15123875045   \n",
       "..                                                 ...           ...   \n",
       "995  {'address1': '1700 Ranch Rd 620 N', 'address2'...  +15122849909   \n",
       "996  {'address1': '3601 W William Canon Dr', 'addre...  +15126084013   \n",
       "997  {'address1': '1817 S Lamar Blvd', 'address2': ...  +15123541655   \n",
       "998  {'address1': '', 'address2': '', 'address3': '...  +15126532381   \n",
       "999  {'address1': '1400 E 4th St', 'address2': '', ...  +15124762279   \n",
       "\n",
       "      display_phone      distance price  \n",
       "0    (737) 273-8639   4559.922850   NaN  \n",
       "1    (512) 893-3389   9198.419727    $$  \n",
       "2    (512) 912-9070   6525.238348    $$  \n",
       "3    (512) 582-0098  15837.882592    $$  \n",
       "4    (512) 387-5045  17559.809589    $$  \n",
       "..              ...           ...   ...  \n",
       "995  (512) 284-9909  19881.715843   NaN  \n",
       "996  (512) 608-4013  12379.078297    $$  \n",
       "997  (512) 354-1655   6227.830911   NaN  \n",
       "998  (512) 653-2381   6250.206821   NaN  \n",
       "999  (512) 476-2279   5541.837267     $  \n",
       "\n",
       "[1000 rows x 16 columns]"
      ]
     },
     "execution_count": 130,
     "metadata": {},
     "output_type": "execute_result"
    }
   ],
   "source": [
    "df = pd.read_json(JSON_FILE)\n",
    "df"
   ]
  },
  {
   "cell_type": "code",
   "execution_count": 131,
   "id": "3a207deb",
   "metadata": {},
   "outputs": [
    {
     "name": "stdout",
     "output_type": "stream",
     "text": [
      "<class 'pandas.core.frame.DataFrame'>\n",
      "RangeIndex: 1000 entries, 0 to 999\n",
      "Data columns (total 16 columns):\n",
      " #   Column         Non-Null Count  Dtype  \n",
      "---  ------         --------------  -----  \n",
      " 0   id             1000 non-null   object \n",
      " 1   alias          1000 non-null   object \n",
      " 2   name           1000 non-null   object \n",
      " 3   image_url      1000 non-null   object \n",
      " 4   is_closed      1000 non-null   bool   \n",
      " 5   url            1000 non-null   object \n",
      " 6   review_count   1000 non-null   int64  \n",
      " 7   categories     1000 non-null   object \n",
      " 8   rating         1000 non-null   float64\n",
      " 9   coordinates    1000 non-null   object \n",
      " 10  transactions   1000 non-null   object \n",
      " 11  location       1000 non-null   object \n",
      " 12  phone          1000 non-null   object \n",
      " 13  display_phone  1000 non-null   object \n",
      " 14  distance       1000 non-null   float64\n",
      " 15  price          690 non-null    object \n",
      "dtypes: bool(1), float64(2), int64(1), object(12)\n",
      "memory usage: 118.3+ KB\n"
     ]
    }
   ],
   "source": [
    "df.info()"
   ]
  },
  {
   "cell_type": "markdown",
   "id": "1b7bca05",
   "metadata": {},
   "source": [
    "# Converting to .csv.gz"
   ]
  },
  {
   "cell_type": "code",
   "execution_count": 132,
   "id": "2e16a503",
   "metadata": {},
   "outputs": [],
   "source": [
    "#convert the file to .csv.gz\n",
    "csv_file = JSON_FILE.replace(\".json\",\".csv.gz\")\n",
    "csv_file\n",
    "#Save it as a compressed csv (to save space)\n",
    "df.to_csv(csv_file, compression=\"gzip\", index=False)"
   ]
  }
 ],
 "metadata": {
  "kernelspec": {
   "display_name": "Python (dojo-env)",
   "language": "python",
   "name": "dojo-env"
  },
  "language_info": {
   "codemirror_mode": {
    "name": "ipython",
    "version": 3
   },
   "file_extension": ".py",
   "mimetype": "text/x-python",
   "name": "python",
   "nbconvert_exporter": "python",
   "pygments_lexer": "ipython3",
   "version": "3.9.15"
  },
  "toc": {
   "base_numbering": 1,
   "nav_menu": {},
   "number_sections": true,
   "sideBar": true,
   "skip_h1_title": false,
   "title_cell": "Table of Contents",
   "title_sidebar": "Contents",
   "toc_cell": false,
   "toc_position": {},
   "toc_section_display": true,
   "toc_window_display": false
  },
  "varInspector": {
   "cols": {
    "lenName": 16,
    "lenType": 16,
    "lenVar": 40
   },
   "kernels_config": {
    "python": {
     "delete_cmd_postfix": "",
     "delete_cmd_prefix": "del ",
     "library": "var_list.py",
     "varRefreshCmd": "print(var_dic_list())"
    },
    "r": {
     "delete_cmd_postfix": ") ",
     "delete_cmd_prefix": "rm(",
     "library": "var_list.r",
     "varRefreshCmd": "cat(var_dic_list()) "
    }
   },
   "types_to_exclude": [
    "module",
    "function",
    "builtin_function_or_method",
    "instance",
    "_Feature"
   ],
   "window_display": false
  }
 },
 "nbformat": 4,
 "nbformat_minor": 5
}
