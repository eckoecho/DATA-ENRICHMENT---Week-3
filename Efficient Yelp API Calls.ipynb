{
 "cells": [
  {
   "cell_type": "code",
   "execution_count": 1,
   "id": "047a5c95",
   "metadata": {},
   "outputs": [],
   "source": [
    "#Importing necessary libraries\n",
    "import pandas as pd\n",
    "import numpy as np\n",
    "import matplotlib.pyplot as plt\n",
    "import seaborn as sns\n",
    "from tqdm.notebook import tqdm_notebook\n",
    "import os, math, json, time\n",
    "from yelpapi import YelpAPI"
   ]
  },
  {
   "cell_type": "markdown",
   "id": "91fb7d73",
   "metadata": {},
   "source": [
    "# Credentials and Accessing the API\n"
   ]
  },
  {
   "cell_type": "code",
   "execution_count": 2,
   "id": "5dcdb4eb",
   "metadata": {},
   "outputs": [],
   "source": [
    "#Loading in API credentials\n",
    "with open(\"/Users/echo/Documents/0424_Data_Enrichment/.secret/yelp_api.json\") as f:\n",
    "    login = json.load(f)\n",
    "# # Instantiate YelpAPI Variable\n",
    "yelp_api = YelpAPI(login[\"api-key\"], timeout_s=5.0)"
   ]
  },
  {
   "cell_type": "markdown",
   "id": "9fbea7ee",
   "metadata": {},
   "source": [
    "# Define Search"
   ]
  },
  {
   "cell_type": "code",
   "execution_count": 7,
   "id": "d7987935",
   "metadata": {},
   "outputs": [],
   "source": [
    "#Setting search definitions\n",
    "LOCATION = \"Austin, TX\"\n",
    "TERM = \"dessert\""
   ]
  },
  {
   "cell_type": "code",
   "execution_count": 9,
   "id": "bce0c5c2",
   "metadata": {},
   "outputs": [
    {
     "data": {
      "text/plain": [
       "dict_keys(['businesses', 'total', 'region'])"
      ]
     },
     "execution_count": 9,
     "metadata": {},
     "output_type": "execute_result"
    }
   ],
   "source": [
    "#Searching yelp api\n",
    "results = yelp_api.search_query(location=LOCATION, term=TERM)\n",
    "results.keys()"
   ]
  },
  {
   "cell_type": "code",
   "execution_count": 17,
   "id": "4696c041",
   "metadata": {},
   "outputs": [
    {
     "data": {
      "text/plain": [
       "4300"
      ]
     },
     "execution_count": 17,
     "metadata": {},
     "output_type": "execute_result"
    }
   ],
   "source": [
    "#Getting total results\n",
    "n_total = results[\"total\"]\n",
    "n_total"
   ]
  },
  {
   "cell_type": "code",
   "execution_count": 15,
   "id": "dff822ac",
   "metadata": {},
   "outputs": [
    {
     "data": {
      "text/plain": [
       "20"
      ]
     },
     "execution_count": 15,
     "metadata": {},
     "output_type": "execute_result"
    }
   ],
   "source": [
    "#Getting results per page\n",
    "n_per_page = len(results[\"businesses\"])\n",
    "n_per_page"
   ]
  }
 ],
 "metadata": {
  "kernelspec": {
   "display_name": "Python (dojo-env)",
   "language": "python",
   "name": "dojo-env"
  },
  "language_info": {
   "codemirror_mode": {
    "name": "ipython",
    "version": 3
   },
   "file_extension": ".py",
   "mimetype": "text/x-python",
   "name": "python",
   "nbconvert_exporter": "python",
   "pygments_lexer": "ipython3",
   "version": "3.9.15"
  },
  "toc": {
   "base_numbering": 1,
   "nav_menu": {},
   "number_sections": true,
   "sideBar": true,
   "skip_h1_title": false,
   "title_cell": "Table of Contents",
   "title_sidebar": "Contents",
   "toc_cell": false,
   "toc_position": {},
   "toc_section_display": true,
   "toc_window_display": false
  },
  "varInspector": {
   "cols": {
    "lenName": 16,
    "lenType": 16,
    "lenVar": 40
   },
   "kernels_config": {
    "python": {
     "delete_cmd_postfix": "",
     "delete_cmd_prefix": "del ",
     "library": "var_list.py",
     "varRefreshCmd": "print(var_dic_list())"
    },
    "r": {
     "delete_cmd_postfix": ") ",
     "delete_cmd_prefix": "rm(",
     "library": "var_list.r",
     "varRefreshCmd": "cat(var_dic_list()) "
    }
   },
   "types_to_exclude": [
    "module",
    "function",
    "builtin_function_or_method",
    "instance",
    "_Feature"
   ],
   "window_display": false
  }
 },
 "nbformat": 4,
 "nbformat_minor": 5
}
