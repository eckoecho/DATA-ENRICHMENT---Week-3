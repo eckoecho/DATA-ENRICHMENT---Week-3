{
 "cells": [
  {
   "cell_type": "markdown",
   "id": "41f4c650",
   "metadata": {},
   "source": [
    "# Yelp "
   ]
  },
  {
   "cell_type": "code",
   "execution_count": 30,
   "id": "d583973e",
   "metadata": {},
   "outputs": [],
   "source": [
    "#Importing necessary libraries\n",
    "import pandas as pd\n",
    "import numpy as np\n",
    "import matplotlib.pyplot as plt\n",
    "import seaborn as sns\n",
    "from tqdm.notebook import tqdm_notebook\n",
    "import os, math, json, time\n",
    "from yelpapi import YelpAPI"
   ]
  },
  {
   "cell_type": "markdown",
   "id": "2fd72027",
   "metadata": {},
   "source": [
    "# Credentials and Accessing the API\n"
   ]
  },
  {
   "cell_type": "code",
   "execution_count": 31,
   "id": "950535d0",
   "metadata": {},
   "outputs": [],
   "source": [
    "#Loading in API credentials\n",
    "with open(\"/Users/echo/Documents/0424_Data_Enrichment/.secret/yelp_api.json\") as f:\n",
    "    login = json.load(f)\n",
    "# # Instantiate YelpAPI Variable\n",
    "yelp_api = YelpAPI(login[\"api-key\"], timeout_s=5.0)"
   ]
  },
  {
   "cell_type": "markdown",
   "id": "ae6b6818",
   "metadata": {},
   "source": [
    "# Define Search"
   ]
  },
  {
   "cell_type": "code",
   "execution_count": 32,
   "id": "0bc189aa",
   "metadata": {},
   "outputs": [],
   "source": [
    "#Setting search definitions\n",
    "LOCATION = \"Austin, TX\"\n",
    "TERM = \"dessert\""
   ]
  },
  {
   "cell_type": "code",
   "execution_count": 33,
   "id": "8558a4cb",
   "metadata": {},
   "outputs": [
    {
     "data": {
      "text/plain": [
       "dict_keys(['businesses', 'total', 'region'])"
      ]
     },
     "execution_count": 33,
     "metadata": {},
     "output_type": "execute_result"
    }
   ],
   "source": [
    "#Searching yelp api\n",
    "results = yelp_api.search_query(location=LOCATION, term=TERM)\n",
    "results.keys()"
   ]
  },
  {
   "cell_type": "code",
   "execution_count": 37,
   "id": "6ee73ebb",
   "metadata": {},
   "outputs": [
    {
     "data": {
      "text/plain": [
       "4300"
      ]
     },
     "execution_count": 37,
     "metadata": {},
     "output_type": "execute_result"
    }
   ],
   "source": [
    "#Getting total results\n",
    "total_results = results[\"total\"]\n",
    "total_results"
   ]
  },
  {
   "cell_type": "code",
   "execution_count": 38,
   "id": "ad7d283b",
   "metadata": {},
   "outputs": [
    {
     "data": {
      "text/plain": [
       "20"
      ]
     },
     "execution_count": 38,
     "metadata": {},
     "output_type": "execute_result"
    }
   ],
   "source": [
    "#Getting results per page\n",
    "results_per_page = len(results[\"businesses\"])\n",
    "results_per_page"
   ]
  },
  {
   "cell_type": "markdown",
   "id": "2065dc8c",
   "metadata": {},
   "source": [
    "# Create JSON File Variable"
   ]
  },
  {
   "cell_type": "code",
   "execution_count": 39,
   "id": "926faddb",
   "metadata": {},
   "outputs": [
    {
     "data": {
      "text/plain": [
       "'Data/results_in_austin.json'"
      ]
     },
     "execution_count": 39,
     "metadata": {},
     "output_type": "execute_result"
    }
   ],
   "source": [
    "JSON_FILE = \"Data/results_in_austin.json\"\n",
    "JSON_FILE"
   ]
  },
  {
   "cell_type": "code",
   "execution_count": 44,
   "id": "1b6bdccd",
   "metadata": {},
   "outputs": [
    {
     "name": "stdout",
     "output_type": "stream",
     "text": [
      "[i] Data/results_in_austin.json not found. Saving empty list to file.\n"
     ]
    }
   ],
   "source": [
    "## Check if JSON_FILE exists\n",
    "file_exists = os.path.isfile(JSON_FILE)\n",
    "## If it does not exist: \n",
    "if file_exists == False:\n",
    "    ## CREATE ANY NEEDED FOLDERS\n",
    "    # Get the Folder Name only\n",
    "    folder = os.path.dirname(JSON_FILE)\n",
    "    if len(folder) > 0:\n",
    "        # create the folder\n",
    "        os.makedirs(folder, exist_ok=True)\n",
    "    \n",
    "    ## INFORM USER AND SAVE EMPTY LIST\n",
    "    print(f\"[i] {JSON_FILE} not found. Saving empty list to file.\")\n",
    "    \n",
    "    # save an empty list\n",
    "    with open(JSON_FILE, \"w\") as f:\n",
    "        json.dump([],f)\n",
    "# If it exists, inform user\n",
    "else:\n",
    "    print(f\"[i] {JSON_FILE} already exists.\")"
   ]
  },
  {
   "cell_type": "markdown",
   "id": "bc07c011",
   "metadata": {},
   "source": [
    "# Reading in JSON File & Setting Offset"
   ]
  },
  {
   "cell_type": "code",
   "execution_count": 46,
   "id": "7e1d5577",
   "metadata": {},
   "outputs": [],
   "source": [
    "with open(JSON_FILE, \"r\") as f:\n",
    "    previous_results = json.load(f)\n",
    "## set offset based on previous results\n",
    "n_results = len(previous_results)    "
   ]
  },
  {
   "cell_type": "markdown",
   "id": "f3e22eb9",
   "metadata": {},
   "source": [
    "# Number of Pages Needed"
   ]
  },
  {
   "cell_type": "code",
   "execution_count": 55,
   "id": "36f33426",
   "metadata": {},
   "outputs": [
    {
     "data": {
      "text/plain": [
       "215"
      ]
     },
     "execution_count": 55,
     "metadata": {},
     "output_type": "execute_result"
    }
   ],
   "source": [
    "# Use math.ceil to round up for the total number of pages of results.\n",
    "n_pages = math.ceil((total_results/results_per_page))\n",
    "n_pages"
   ]
  },
  {
   "cell_type": "markdown",
   "id": "344198cb",
   "metadata": {},
   "source": [
    "# Creating Function"
   ]
  },
  {
   "cell_type": "code",
   "execution_count": 48,
   "id": "8ff93af4",
   "metadata": {},
   "outputs": [],
   "source": [
    "def create_json_file(JSON_FILE, delete_if_exists=False):\n",
    "    ## Check if JSON_FILE exists\n",
    "    file_exists = os.path.isfile(JSON_FILE)\n",
    "    ## If it DOES exist:\n",
    "    if file_exists == True:\n",
    "        ## Check if user wants to delete if exists\n",
    "        if delete_if_exists == True:\n",
    "            print(f\"[!] {JSON_FILE} already exists. Deleting previous file ...\")\n",
    "            ## delete file and confirm it no longer exits.\n",
    "            os.remove(JSON_FILE)\n",
    "            ## Recursive call to function after old file deleted\n",
    "            create_json_file(JSON_FILE, delete_if_exists=False)\n",
    "        else:\n",
    "            print(f\"[i] {JSON_FILE} already exists.\")\n",
    "                \n",
    "                \n",
    "    ## If it does NOT exist:                \n",
    "    else:\n",
    "        ## INFORM USER AND SAVE EMPTY LIST\n",
    "        print(f\"[i] {JSON_FILE} not found. Saving empty list to new file.\")\n",
    "        ## CREATE ANY NEEDED FOLDERS\n",
    "        # Get the Folder Name only\n",
    "        folder = os.path.dirname(JSON_FILE)\n",
    "        ## If JSON_FILE included a folder:\n",
    "        if len(folder) > 0:\n",
    "            # create the folder\n",
    "            os.makedirs(folder, exist_ok=True)\n",
    "            ## Save empty list to start the json file\n",
    "            with open(JSON_FILE, \"w\") as f:\n",
    "                json.dump([],f)"
   ]
  },
  {
   "cell_type": "markdown",
   "id": "73b80957",
   "metadata": {},
   "source": [
    "# Using Custom Function"
   ]
  },
  {
   "cell_type": "code",
   "execution_count": 58,
   "id": "ec113d1a",
   "metadata": {},
   "outputs": [
    {
     "ename": "SyntaxError",
     "evalue": "invalid syntax (682905662.py, line 12)",
     "output_type": "error",
     "traceback": [
      "\u001b[0;36m  Cell \u001b[0;32mIn [58], line 12\u001b[0;36m\u001b[0m\n\u001b[0;31m    total_results = results[\"total\"]\u001b[0m\n\u001b[0m    ^\u001b[0m\n\u001b[0;31mSyntaxError\u001b[0m\u001b[0;31m:\u001b[0m invalid syntax\n"
     ]
    }
   ],
   "source": [
    "## Create a new empty json file (delete the previous if it exists)\n",
    "create_json_file(JSON_FILE, delete_if_exists=True)\n",
    "## Load previous results and use len of results for offset\n",
    "with open(JSON_FILE, \"r\") as f:\n",
    "    previous_results = json.load(f)\n",
    "## set offset based on previous results\n",
    "n_results = len(previous_results)\n",
    "print(f\"- {n_results} previous results found.\")\n",
    "# use our yelp_api variable's search_query method to perform our API call\n",
    "results = yelp_api.search_query(location=LOCATION, term=TERM, offset=n_results+1\n",
    "## How many results total?\n",
    "total_results = results[\"total\"]\n",
    "## How many did we get the details for?\n",
    "results_per_page = len(results[\"businesses\"])\n",
    "# Use math.ceil to round up for the total number of pages of results.\n",
    "n_pages = math.ceil((results[\"total\"abs]-n_results/results_per_page))\n",
    "n_pages"
   ]
  },
  {
   "cell_type": "markdown",
   "id": "da3a719b",
   "metadata": {},
   "source": [
    "# Query Loop"
   ]
  },
  {
   "cell_type": "code",
   "execution_count": 61,
   "id": "4258f0bb",
   "metadata": {
    "scrolled": true
   },
   "outputs": [
    {
     "data": {
      "application/vnd.jupyter.widget-view+json": {
       "model_id": "75e4bb3b5bfb4004acbec2b551efa524",
       "version_major": 2,
       "version_minor": 0
      },
      "text/plain": [
       "  0%|          | 0/215 [00:00<?, ?it/s]"
      ]
     },
     "metadata": {},
     "output_type": "display_data"
    },
    {
     "ename": "YelpAPIError",
     "evalue": "VALIDATION_ERROR: 1741 is greater than the maximum of 1000",
     "output_type": "error",
     "traceback": [
      "\u001b[0;31m---------------------------------------------------------------------------\u001b[0m",
      "\u001b[0;31mYelpAPIError\u001b[0m                              Traceback (most recent call last)",
      "Cell \u001b[0;32mIn [61], line 7\u001b[0m\n\u001b[1;32m      5\u001b[0m \u001b[38;5;66;03m## save number of results for to use as offset\u001b[39;00m\n\u001b[1;32m      6\u001b[0m n_results \u001b[38;5;241m=\u001b[39m \u001b[38;5;28mlen\u001b[39m(previous_results)\n\u001b[0;32m----> 7\u001b[0m results \u001b[38;5;241m=\u001b[39m \u001b[43myelp_api\u001b[49m\u001b[38;5;241;43m.\u001b[39;49m\u001b[43msearch_query\u001b[49m\u001b[43m(\u001b[49m\u001b[43mlocation\u001b[49m\u001b[38;5;241;43m=\u001b[39;49m\u001b[43mLOCATION\u001b[49m\u001b[43m,\u001b[49m\u001b[43m \u001b[49m\u001b[43mterm\u001b[49m\u001b[38;5;241;43m=\u001b[39;49m\u001b[43mTERM\u001b[49m\u001b[43m,\u001b[49m\u001b[43m \u001b[49m\u001b[43moffset\u001b[49m\u001b[38;5;241;43m=\u001b[39;49m\u001b[43mn_results\u001b[49m\u001b[38;5;241;43m+\u001b[39;49m\u001b[38;5;241;43m1\u001b[39;49m\u001b[43m)\u001b[49m\n\u001b[1;32m      8\u001b[0m \u001b[38;5;66;03m## append new results and save to file    \u001b[39;00m\n\u001b[1;32m      9\u001b[0m previous_results\u001b[38;5;241m.\u001b[39mextend(results[\u001b[38;5;124m\"\u001b[39m\u001b[38;5;124mbusinesses\u001b[39m\u001b[38;5;124m\"\u001b[39m])\n",
      "File \u001b[0;32m/opt/homebrew/Caskroom/miniforge/base/envs/dojo-env/lib/python3.9/site-packages/yelpapi/yelpapi.py:251\u001b[0m, in \u001b[0;36mYelpAPI.search_query\u001b[0;34m(self, **kwargs)\u001b[0m\n\u001b[1;32m    247\u001b[0m \u001b[38;5;28;01mif\u001b[39;00m \u001b[38;5;129;01mnot\u001b[39;00m kwargs\u001b[38;5;241m.\u001b[39mget(\u001b[38;5;124m'\u001b[39m\u001b[38;5;124mlocation\u001b[39m\u001b[38;5;124m'\u001b[39m) \u001b[38;5;129;01mand\u001b[39;00m (\u001b[38;5;129;01mnot\u001b[39;00m kwargs\u001b[38;5;241m.\u001b[39mget(\u001b[38;5;124m'\u001b[39m\u001b[38;5;124mlatitude\u001b[39m\u001b[38;5;124m'\u001b[39m) \u001b[38;5;129;01mor\u001b[39;00m \u001b[38;5;129;01mnot\u001b[39;00m kwargs\u001b[38;5;241m.\u001b[39mget(\u001b[38;5;124m'\u001b[39m\u001b[38;5;124mlongitude\u001b[39m\u001b[38;5;124m'\u001b[39m)):\n\u001b[1;32m    248\u001b[0m     \u001b[38;5;28;01mraise\u001b[39;00m \u001b[38;5;167;01mValueError\u001b[39;00m(\u001b[38;5;124m'\u001b[39m\u001b[38;5;124mA valid location (parameter \u001b[39m\u001b[38;5;124m\"\u001b[39m\u001b[38;5;124mlocation\u001b[39m\u001b[38;5;124m\"\u001b[39m\u001b[38;5;124m) or latitude/longitude combination \u001b[39m\u001b[38;5;124m'\u001b[39m\n\u001b[1;32m    249\u001b[0m                      \u001b[38;5;124m'\u001b[39m\u001b[38;5;124m(parameters \u001b[39m\u001b[38;5;124m\"\u001b[39m\u001b[38;5;124mlatitude\u001b[39m\u001b[38;5;124m\"\u001b[39m\u001b[38;5;124m and \u001b[39m\u001b[38;5;124m\"\u001b[39m\u001b[38;5;124mlongitude\u001b[39m\u001b[38;5;124m\"\u001b[39m\u001b[38;5;124m) must be provided.\u001b[39m\u001b[38;5;124m'\u001b[39m)\n\u001b[0;32m--> 251\u001b[0m \u001b[38;5;28;01mreturn\u001b[39;00m \u001b[38;5;28;43mself\u001b[39;49m\u001b[38;5;241;43m.\u001b[39;49m\u001b[43m_query\u001b[49m\u001b[43m(\u001b[49m\u001b[43mSEARCH_API_URL\u001b[49m\u001b[43m,\u001b[49m\u001b[43m \u001b[49m\u001b[38;5;241;43m*\u001b[39;49m\u001b[38;5;241;43m*\u001b[39;49m\u001b[43mkwargs\u001b[49m\u001b[43m)\u001b[49m\n",
      "File \u001b[0;32m/opt/homebrew/Caskroom/miniforge/base/envs/dojo-env/lib/python3.9/site-packages/yelpapi/yelpapi.py:299\u001b[0m, in \u001b[0;36mYelpAPI._query\u001b[0;34m(self, url, **kwargs)\u001b[0m\n\u001b[1;32m    295\u001b[0m \u001b[38;5;66;03m# Yelp can return one of many different API errors, so check for one of them.\u001b[39;00m\n\u001b[1;32m    296\u001b[0m \u001b[38;5;66;03m# The Yelp Fusion API does not yet have a complete list of errors, but this is on the TODO list; see\u001b[39;00m\n\u001b[1;32m    297\u001b[0m \u001b[38;5;66;03m# https://github.com/Yelp/yelp-fusion/issues/95 for more info.\u001b[39;00m\n\u001b[1;32m    298\u001b[0m \u001b[38;5;28;01mif\u001b[39;00m \u001b[38;5;124m'\u001b[39m\u001b[38;5;124merror\u001b[39m\u001b[38;5;124m'\u001b[39m \u001b[38;5;129;01min\u001b[39;00m response_json:\n\u001b[0;32m--> 299\u001b[0m     \u001b[38;5;28;01mraise\u001b[39;00m YelpAPI\u001b[38;5;241m.\u001b[39mYelpAPIError(\u001b[38;5;124m'\u001b[39m\u001b[38;5;132;01m{}\u001b[39;00m\u001b[38;5;124m: \u001b[39m\u001b[38;5;132;01m{}\u001b[39;00m\u001b[38;5;124m'\u001b[39m\u001b[38;5;241m.\u001b[39mformat(response_json[\u001b[38;5;124m'\u001b[39m\u001b[38;5;124merror\u001b[39m\u001b[38;5;124m'\u001b[39m][\u001b[38;5;124m'\u001b[39m\u001b[38;5;124mcode\u001b[39m\u001b[38;5;124m'\u001b[39m],\n\u001b[1;32m    300\u001b[0m                                                response_json[\u001b[38;5;124m'\u001b[39m\u001b[38;5;124merror\u001b[39m\u001b[38;5;124m'\u001b[39m][\u001b[38;5;124m'\u001b[39m\u001b[38;5;124mdescription\u001b[39m\u001b[38;5;124m'\u001b[39m]))\n\u001b[1;32m    302\u001b[0m \u001b[38;5;66;03m# we got a good response, so return\u001b[39;00m\n\u001b[1;32m    303\u001b[0m \u001b[38;5;28;01mreturn\u001b[39;00m response_json\n",
      "\u001b[0;31mYelpAPIError\u001b[0m: VALIDATION_ERROR: 1741 is greater than the maximum of 1000"
     ]
    }
   ],
   "source": [
    "for i in tqdm_notebook(range(1,n_pages+1)):\n",
    "    ## Read in results in progress file and check the length\n",
    "    with open(JSON_FILE, \"r\") as f:\n",
    "        previous_results = json.load(f)\n",
    "    ## save number of results for to use as offset\n",
    "    n_results = len(previous_results)\n",
    "    results = yelp_api.search_query(location=LOCATION, term=TERM, offset=n_results+1)\n",
    "    ## append new results and save to file    \n",
    "    previous_results.extend(results[\"businesses\"])\n",
    "    # display(previous_results)\n",
    "    with open(JSON_FILE, \"w\") as f:\n",
    "        json.dump(previous_results, f)\n",
    "    time.sleep(.2)    "
   ]
  },
  {
   "cell_type": "markdown",
   "id": "6eb20d50",
   "metadata": {},
   "source": [
    "# JSON File Contents\n",
    "I was able to return the results of 1,741 places before hitting the Yelp API Limit."
   ]
  },
  {
   "cell_type": "code",
   "execution_count": 70,
   "id": "9be15e54",
   "metadata": {},
   "outputs": [
    {
     "data": {
      "text/html": [
       "<div>\n",
       "<style scoped>\n",
       "    .dataframe tbody tr th:only-of-type {\n",
       "        vertical-align: middle;\n",
       "    }\n",
       "\n",
       "    .dataframe tbody tr th {\n",
       "        vertical-align: top;\n",
       "    }\n",
       "\n",
       "    .dataframe thead th {\n",
       "        text-align: right;\n",
       "    }\n",
       "</style>\n",
       "<table border=\"1\" class=\"dataframe\">\n",
       "  <thead>\n",
       "    <tr style=\"text-align: right;\">\n",
       "      <th></th>\n",
       "      <th>id</th>\n",
       "      <th>alias</th>\n",
       "      <th>name</th>\n",
       "      <th>image_url</th>\n",
       "      <th>is_closed</th>\n",
       "      <th>url</th>\n",
       "      <th>review_count</th>\n",
       "      <th>categories</th>\n",
       "      <th>rating</th>\n",
       "      <th>coordinates</th>\n",
       "      <th>transactions</th>\n",
       "      <th>price</th>\n",
       "      <th>location</th>\n",
       "      <th>phone</th>\n",
       "      <th>display_phone</th>\n",
       "      <th>distance</th>\n",
       "    </tr>\n",
       "  </thead>\n",
       "  <tbody>\n",
       "    <tr>\n",
       "      <th>0</th>\n",
       "      <td>3sLc73JikDYNwE3vd7-cZw</td>\n",
       "      <td>gourdoughs-big-fat-donuts-austin</td>\n",
       "      <td>Gourdough's Big Fat Donuts</td>\n",
       "      <td>https://s3-media1.fl.yelpcdn.com/bphoto/GKh1IY...</td>\n",
       "      <td>False</td>\n",
       "      <td>https://www.yelp.com/biz/gourdoughs-big-fat-do...</td>\n",
       "      <td>3769</td>\n",
       "      <td>[{'alias': 'donuts', 'title': 'Donuts'}]</td>\n",
       "      <td>4.5</td>\n",
       "      <td>{'latitude': 30.24968, 'longitude': -97.75474}</td>\n",
       "      <td>[delivery, pickup]</td>\n",
       "      <td>$$</td>\n",
       "      <td>{'address1': '1503 South 1st St', 'address2': ...</td>\n",
       "      <td>+15129129070</td>\n",
       "      <td>(512) 912-9070</td>\n",
       "      <td>6525.238348</td>\n",
       "    </tr>\n",
       "    <tr>\n",
       "      <th>1</th>\n",
       "      <td>l01HLUtX0_D-w0pfIxi2AA</td>\n",
       "      <td>uncle-tetsu-austin</td>\n",
       "      <td>Uncle Tetsu</td>\n",
       "      <td>https://s3-media2.fl.yelpcdn.com/bphoto/UdApoX...</td>\n",
       "      <td>False</td>\n",
       "      <td>https://www.yelp.com/biz/uncle-tetsu-austin?ad...</td>\n",
       "      <td>6</td>\n",
       "      <td>[{'alias': 'desserts', 'title': 'Desserts'}]</td>\n",
       "      <td>4.5</td>\n",
       "      <td>{'latitude': 30.336683909673457, 'longitude': ...</td>\n",
       "      <td>[]</td>\n",
       "      <td>NaN</td>\n",
       "      <td>{'address1': '6929 Airport Blvd', 'address2': ...</td>\n",
       "      <td>+17372738639</td>\n",
       "      <td>(737) 273-8639</td>\n",
       "      <td>4559.922850</td>\n",
       "    </tr>\n",
       "    <tr>\n",
       "      <th>2</th>\n",
       "      <td>BaOt2n1PawRKbwlDiuh14w</td>\n",
       "      <td>sweet-memes-austin-austin</td>\n",
       "      <td>Sweet Memes - Austin</td>\n",
       "      <td>https://s3-media4.fl.yelpcdn.com/bphoto/3uxbhT...</td>\n",
       "      <td>False</td>\n",
       "      <td>https://www.yelp.com/biz/sweet-memes-austin-au...</td>\n",
       "      <td>94</td>\n",
       "      <td>[{'alias': 'desserts', 'title': 'Desserts'}, {...</td>\n",
       "      <td>4.5</td>\n",
       "      <td>{'latitude': 30.22602, 'longitude': -97.76184}</td>\n",
       "      <td>[]</td>\n",
       "      <td>$$</td>\n",
       "      <td>{'address1': '3801 S Congress Ave', 'address2'...</td>\n",
       "      <td>+15128933389</td>\n",
       "      <td>(512) 893-3389</td>\n",
       "      <td>9198.419727</td>\n",
       "    </tr>\n",
       "    <tr>\n",
       "      <th>3</th>\n",
       "      <td>HPYRea5mrOFv9VvOdP4AsQ</td>\n",
       "      <td>pie-bar-austin</td>\n",
       "      <td>Pie Bar</td>\n",
       "      <td>https://s3-media2.fl.yelpcdn.com/bphoto/IImh3h...</td>\n",
       "      <td>False</td>\n",
       "      <td>https://www.yelp.com/biz/pie-bar-austin?adjust...</td>\n",
       "      <td>92</td>\n",
       "      <td>[{'alias': 'desserts', 'title': 'Desserts'}, {...</td>\n",
       "      <td>4.5</td>\n",
       "      <td>{'latitude': 30.16954977494928, 'longitude': -...</td>\n",
       "      <td>[delivery, pickup]</td>\n",
       "      <td>$$</td>\n",
       "      <td>{'address1': '8900 S Congress Ave', 'address2'...</td>\n",
       "      <td>+15125820098</td>\n",
       "      <td>(512) 582-0098</td>\n",
       "      <td>15837.882592</td>\n",
       "    </tr>\n",
       "    <tr>\n",
       "      <th>4</th>\n",
       "      <td>hYWsMDz0ms7TOnFTcsxYcw</td>\n",
       "      <td>manolis-ice-cream-pastries-and-cakes-austin</td>\n",
       "      <td>Manolis Ice Cream, Pastries, &amp; Cakes</td>\n",
       "      <td>https://s3-media2.fl.yelpcdn.com/bphoto/nJYF1s...</td>\n",
       "      <td>False</td>\n",
       "      <td>https://www.yelp.com/biz/manolis-ice-cream-pas...</td>\n",
       "      <td>522</td>\n",
       "      <td>[{'alias': 'desserts', 'title': 'Desserts'}, {...</td>\n",
       "      <td>5.0</td>\n",
       "      <td>{'latitude': 30.235612131073413, 'longitude': ...</td>\n",
       "      <td>[delivery]</td>\n",
       "      <td>$$</td>\n",
       "      <td>{'address1': '8907 Circle Dr', 'address2': Non...</td>\n",
       "      <td>+15123875045</td>\n",
       "      <td>(512) 387-5045</td>\n",
       "      <td>17559.809589</td>\n",
       "    </tr>\n",
       "    <tr>\n",
       "      <th>...</th>\n",
       "      <td>...</td>\n",
       "      <td>...</td>\n",
       "      <td>...</td>\n",
       "      <td>...</td>\n",
       "      <td>...</td>\n",
       "      <td>...</td>\n",
       "      <td>...</td>\n",
       "      <td>...</td>\n",
       "      <td>...</td>\n",
       "      <td>...</td>\n",
       "      <td>...</td>\n",
       "      <td>...</td>\n",
       "      <td>...</td>\n",
       "      <td>...</td>\n",
       "      <td>...</td>\n",
       "      <td>...</td>\n",
       "    </tr>\n",
       "    <tr>\n",
       "      <th>1735</th>\n",
       "      <td>rFG5eziVKsonxHOrI_qVMA</td>\n",
       "      <td>crêpeful-austin-2</td>\n",
       "      <td>crêpeful</td>\n",
       "      <td>https://s3-media2.fl.yelpcdn.com/bphoto/wjbwV_...</td>\n",
       "      <td>False</td>\n",
       "      <td>https://www.yelp.com/biz/cr%C3%AApeful-austin-...</td>\n",
       "      <td>66</td>\n",
       "      <td>[{'alias': 'creperies', 'title': 'Creperies'}]</td>\n",
       "      <td>5.0</td>\n",
       "      <td>{'latitude': 30.405795, 'longitude': -97.874045}</td>\n",
       "      <td>[delivery, pickup]</td>\n",
       "      <td>NaN</td>\n",
       "      <td>{'address1': '6550 Comanche Trl', 'address2': ...</td>\n",
       "      <td>+15125753595</td>\n",
       "      <td>(512) 575-3595</td>\n",
       "      <td>16044.175373</td>\n",
       "    </tr>\n",
       "    <tr>\n",
       "      <th>1736</th>\n",
       "      <td>bMUllZks5Vo6ut6NdLRpWw</td>\n",
       "      <td>bésame-austin</td>\n",
       "      <td>Bésame</td>\n",
       "      <td>https://s3-media2.fl.yelpcdn.com/bphoto/wZ74lc...</td>\n",
       "      <td>False</td>\n",
       "      <td>https://www.yelp.com/biz/b%C3%A9same-austin?ad...</td>\n",
       "      <td>45</td>\n",
       "      <td>[{'alias': 'icecream', 'title': 'Ice Cream &amp; F...</td>\n",
       "      <td>4.5</td>\n",
       "      <td>{'latitude': 30.2090767, 'longitude': -97.7301...</td>\n",
       "      <td>[]</td>\n",
       "      <td>NaN</td>\n",
       "      <td>{'address1': '3901 Promontory Point Dr', 'addr...</td>\n",
       "      <td></td>\n",
       "      <td></td>\n",
       "      <td>11256.209743</td>\n",
       "    </tr>\n",
       "    <tr>\n",
       "      <th>1737</th>\n",
       "      <td>yzNUwYQyPgxwoEa--nu5ew</td>\n",
       "      <td>whipped-bakery-and-cafe-leander</td>\n",
       "      <td>Whipped Bakery &amp; Cafe</td>\n",
       "      <td>https://s3-media2.fl.yelpcdn.com/bphoto/VswTPw...</td>\n",
       "      <td>False</td>\n",
       "      <td>https://www.yelp.com/biz/whipped-bakery-and-ca...</td>\n",
       "      <td>193</td>\n",
       "      <td>[{'alias': 'bakeries', 'title': 'Bakeries'}, {...</td>\n",
       "      <td>4.5</td>\n",
       "      <td>{'latitude': 30.56350374498521, 'longitude': -...</td>\n",
       "      <td>[]</td>\n",
       "      <td>$$</td>\n",
       "      <td>{'address1': '15609 Ronald Reagan Blvd', 'addr...</td>\n",
       "      <td>+15129867988</td>\n",
       "      <td>(512) 986-7988</td>\n",
       "      <td>28797.413727</td>\n",
       "    </tr>\n",
       "    <tr>\n",
       "      <th>1738</th>\n",
       "      <td>3L0v19ibM9bOqE0Ys75YhA</td>\n",
       "      <td>the-salty-donut-austin-2</td>\n",
       "      <td>The Salty Donut</td>\n",
       "      <td>https://s3-media1.fl.yelpcdn.com/bphoto/RvnMVA...</td>\n",
       "      <td>False</td>\n",
       "      <td>https://www.yelp.com/biz/the-salty-donut-austi...</td>\n",
       "      <td>287</td>\n",
       "      <td>[{'alias': 'donuts', 'title': 'Donuts'}, {'ali...</td>\n",
       "      <td>4.5</td>\n",
       "      <td>{'latitude': 30.24419, 'longitude': -97.75207}</td>\n",
       "      <td>[delivery, pickup]</td>\n",
       "      <td>NaN</td>\n",
       "      <td>{'address1': '2000 S Congress Ave', 'address2'...</td>\n",
       "      <td>+15124944148</td>\n",
       "      <td>(512) 494-4148</td>\n",
       "      <td>7120.977110</td>\n",
       "    </tr>\n",
       "    <tr>\n",
       "      <th>1739</th>\n",
       "      <td>npq280Gs4XsNhMar6nG2Xw</td>\n",
       "      <td>austin-english-tea-company-austin</td>\n",
       "      <td>Austin English Tea Company</td>\n",
       "      <td>https://s3-media3.fl.yelpcdn.com/bphoto/Y3K828...</td>\n",
       "      <td>False</td>\n",
       "      <td>https://www.yelp.com/biz/austin-english-tea-co...</td>\n",
       "      <td>22</td>\n",
       "      <td>[{'alias': 'tea', 'title': 'Tea Rooms'}]</td>\n",
       "      <td>5.0</td>\n",
       "      <td>{'latitude': 30.4329605102539, 'longitude': -9...</td>\n",
       "      <td>[]</td>\n",
       "      <td>NaN</td>\n",
       "      <td>{'address1': None, 'address2': None, 'address3...</td>\n",
       "      <td>+15126337944</td>\n",
       "      <td>(512) 633-7944</td>\n",
       "      <td>14077.737169</td>\n",
       "    </tr>\n",
       "  </tbody>\n",
       "</table>\n",
       "<p>1740 rows × 16 columns</p>\n",
       "</div>"
      ],
      "text/plain": [
       "                          id                                        alias  \\\n",
       "0     3sLc73JikDYNwE3vd7-cZw             gourdoughs-big-fat-donuts-austin   \n",
       "1     l01HLUtX0_D-w0pfIxi2AA                           uncle-tetsu-austin   \n",
       "2     BaOt2n1PawRKbwlDiuh14w                    sweet-memes-austin-austin   \n",
       "3     HPYRea5mrOFv9VvOdP4AsQ                               pie-bar-austin   \n",
       "4     hYWsMDz0ms7TOnFTcsxYcw  manolis-ice-cream-pastries-and-cakes-austin   \n",
       "...                      ...                                          ...   \n",
       "1735  rFG5eziVKsonxHOrI_qVMA                            crêpeful-austin-2   \n",
       "1736  bMUllZks5Vo6ut6NdLRpWw                                bésame-austin   \n",
       "1737  yzNUwYQyPgxwoEa--nu5ew              whipped-bakery-and-cafe-leander   \n",
       "1738  3L0v19ibM9bOqE0Ys75YhA                     the-salty-donut-austin-2   \n",
       "1739  npq280Gs4XsNhMar6nG2Xw            austin-english-tea-company-austin   \n",
       "\n",
       "                                      name  \\\n",
       "0               Gourdough's Big Fat Donuts   \n",
       "1                              Uncle Tetsu   \n",
       "2                     Sweet Memes - Austin   \n",
       "3                                  Pie Bar   \n",
       "4     Manolis Ice Cream, Pastries, & Cakes   \n",
       "...                                    ...   \n",
       "1735                              crêpeful   \n",
       "1736                                Bésame   \n",
       "1737                 Whipped Bakery & Cafe   \n",
       "1738                       The Salty Donut   \n",
       "1739            Austin English Tea Company   \n",
       "\n",
       "                                              image_url  is_closed  \\\n",
       "0     https://s3-media1.fl.yelpcdn.com/bphoto/GKh1IY...      False   \n",
       "1     https://s3-media2.fl.yelpcdn.com/bphoto/UdApoX...      False   \n",
       "2     https://s3-media4.fl.yelpcdn.com/bphoto/3uxbhT...      False   \n",
       "3     https://s3-media2.fl.yelpcdn.com/bphoto/IImh3h...      False   \n",
       "4     https://s3-media2.fl.yelpcdn.com/bphoto/nJYF1s...      False   \n",
       "...                                                 ...        ...   \n",
       "1735  https://s3-media2.fl.yelpcdn.com/bphoto/wjbwV_...      False   \n",
       "1736  https://s3-media2.fl.yelpcdn.com/bphoto/wZ74lc...      False   \n",
       "1737  https://s3-media2.fl.yelpcdn.com/bphoto/VswTPw...      False   \n",
       "1738  https://s3-media1.fl.yelpcdn.com/bphoto/RvnMVA...      False   \n",
       "1739  https://s3-media3.fl.yelpcdn.com/bphoto/Y3K828...      False   \n",
       "\n",
       "                                                    url  review_count  \\\n",
       "0     https://www.yelp.com/biz/gourdoughs-big-fat-do...          3769   \n",
       "1     https://www.yelp.com/biz/uncle-tetsu-austin?ad...             6   \n",
       "2     https://www.yelp.com/biz/sweet-memes-austin-au...            94   \n",
       "3     https://www.yelp.com/biz/pie-bar-austin?adjust...            92   \n",
       "4     https://www.yelp.com/biz/manolis-ice-cream-pas...           522   \n",
       "...                                                 ...           ...   \n",
       "1735  https://www.yelp.com/biz/cr%C3%AApeful-austin-...            66   \n",
       "1736  https://www.yelp.com/biz/b%C3%A9same-austin?ad...            45   \n",
       "1737  https://www.yelp.com/biz/whipped-bakery-and-ca...           193   \n",
       "1738  https://www.yelp.com/biz/the-salty-donut-austi...           287   \n",
       "1739  https://www.yelp.com/biz/austin-english-tea-co...            22   \n",
       "\n",
       "                                             categories  rating  \\\n",
       "0              [{'alias': 'donuts', 'title': 'Donuts'}]     4.5   \n",
       "1          [{'alias': 'desserts', 'title': 'Desserts'}]     4.5   \n",
       "2     [{'alias': 'desserts', 'title': 'Desserts'}, {...     4.5   \n",
       "3     [{'alias': 'desserts', 'title': 'Desserts'}, {...     4.5   \n",
       "4     [{'alias': 'desserts', 'title': 'Desserts'}, {...     5.0   \n",
       "...                                                 ...     ...   \n",
       "1735     [{'alias': 'creperies', 'title': 'Creperies'}]     5.0   \n",
       "1736  [{'alias': 'icecream', 'title': 'Ice Cream & F...     4.5   \n",
       "1737  [{'alias': 'bakeries', 'title': 'Bakeries'}, {...     4.5   \n",
       "1738  [{'alias': 'donuts', 'title': 'Donuts'}, {'ali...     4.5   \n",
       "1739           [{'alias': 'tea', 'title': 'Tea Rooms'}]     5.0   \n",
       "\n",
       "                                            coordinates        transactions  \\\n",
       "0        {'latitude': 30.24968, 'longitude': -97.75474}  [delivery, pickup]   \n",
       "1     {'latitude': 30.336683909673457, 'longitude': ...                  []   \n",
       "2        {'latitude': 30.22602, 'longitude': -97.76184}                  []   \n",
       "3     {'latitude': 30.16954977494928, 'longitude': -...  [delivery, pickup]   \n",
       "4     {'latitude': 30.235612131073413, 'longitude': ...          [delivery]   \n",
       "...                                                 ...                 ...   \n",
       "1735   {'latitude': 30.405795, 'longitude': -97.874045}  [delivery, pickup]   \n",
       "1736  {'latitude': 30.2090767, 'longitude': -97.7301...                  []   \n",
       "1737  {'latitude': 30.56350374498521, 'longitude': -...                  []   \n",
       "1738     {'latitude': 30.24419, 'longitude': -97.75207}  [delivery, pickup]   \n",
       "1739  {'latitude': 30.4329605102539, 'longitude': -9...                  []   \n",
       "\n",
       "     price                                           location         phone  \\\n",
       "0       $$  {'address1': '1503 South 1st St', 'address2': ...  +15129129070   \n",
       "1      NaN  {'address1': '6929 Airport Blvd', 'address2': ...  +17372738639   \n",
       "2       $$  {'address1': '3801 S Congress Ave', 'address2'...  +15128933389   \n",
       "3       $$  {'address1': '8900 S Congress Ave', 'address2'...  +15125820098   \n",
       "4       $$  {'address1': '8907 Circle Dr', 'address2': Non...  +15123875045   \n",
       "...    ...                                                ...           ...   \n",
       "1735   NaN  {'address1': '6550 Comanche Trl', 'address2': ...  +15125753595   \n",
       "1736   NaN  {'address1': '3901 Promontory Point Dr', 'addr...                 \n",
       "1737    $$  {'address1': '15609 Ronald Reagan Blvd', 'addr...  +15129867988   \n",
       "1738   NaN  {'address1': '2000 S Congress Ave', 'address2'...  +15124944148   \n",
       "1739   NaN  {'address1': None, 'address2': None, 'address3...  +15126337944   \n",
       "\n",
       "       display_phone      distance  \n",
       "0     (512) 912-9070   6525.238348  \n",
       "1     (737) 273-8639   4559.922850  \n",
       "2     (512) 893-3389   9198.419727  \n",
       "3     (512) 582-0098  15837.882592  \n",
       "4     (512) 387-5045  17559.809589  \n",
       "...              ...           ...  \n",
       "1735  (512) 575-3595  16044.175373  \n",
       "1736                  11256.209743  \n",
       "1737  (512) 986-7988  28797.413727  \n",
       "1738  (512) 494-4148   7120.977110  \n",
       "1739  (512) 633-7944  14077.737169  \n",
       "\n",
       "[1740 rows x 16 columns]"
      ]
     },
     "execution_count": 70,
     "metadata": {},
     "output_type": "execute_result"
    }
   ],
   "source": [
    "df = pd.read_json(JSON_FILE)\n",
    "df"
   ]
  },
  {
   "cell_type": "code",
   "execution_count": 69,
   "id": "97e6d18f",
   "metadata": {},
   "outputs": [
    {
     "name": "stdout",
     "output_type": "stream",
     "text": [
      "<class 'pandas.core.frame.DataFrame'>\n",
      "RangeIndex: 1740 entries, 0 to 1739\n",
      "Data columns (total 16 columns):\n",
      " #   Column         Non-Null Count  Dtype  \n",
      "---  ------         --------------  -----  \n",
      " 0   id             1740 non-null   object \n",
      " 1   alias          1740 non-null   object \n",
      " 2   name           1740 non-null   object \n",
      " 3   image_url      1740 non-null   object \n",
      " 4   is_closed      1740 non-null   bool   \n",
      " 5   url            1740 non-null   object \n",
      " 6   review_count   1740 non-null   int64  \n",
      " 7   categories     1740 non-null   object \n",
      " 8   rating         1740 non-null   float64\n",
      " 9   coordinates    1740 non-null   object \n",
      " 10  transactions   1740 non-null   object \n",
      " 11  price          1044 non-null   object \n",
      " 12  location       1740 non-null   object \n",
      " 13  phone          1740 non-null   object \n",
      " 14  display_phone  1740 non-null   object \n",
      " 15  distance       1740 non-null   float64\n",
      "dtypes: bool(1), float64(2), int64(1), object(12)\n",
      "memory usage: 205.7+ KB\n"
     ]
    }
   ],
   "source": [
    "df.info()"
   ]
  },
  {
   "cell_type": "markdown",
   "id": "1c245c27",
   "metadata": {},
   "source": [
    "# Converting to .csv.gz"
   ]
  },
  {
   "cell_type": "code",
   "execution_count": 91,
   "id": "6f516cb8",
   "metadata": {},
   "outputs": [],
   "source": [
    "#convert the file to .csv.gz\n",
    "csv_file = JSON_FILE.replace(\".json\",\".csv.gz\")\n",
    "csv_file\n",
    "#Save it as a compressed csv (to save space)\n",
    "df.to_csv(csv_file, compression=\"gzip\", index=False)"
   ]
  }
 ],
 "metadata": {
  "kernelspec": {
   "display_name": "Python (dojo-env)",
   "language": "python",
   "name": "dojo-env"
  },
  "language_info": {
   "codemirror_mode": {
    "name": "ipython",
    "version": 3
   },
   "file_extension": ".py",
   "mimetype": "text/x-python",
   "name": "python",
   "nbconvert_exporter": "python",
   "pygments_lexer": "ipython3",
   "version": "3.9.15"
  },
  "toc": {
   "base_numbering": 1,
   "nav_menu": {},
   "number_sections": true,
   "sideBar": true,
   "skip_h1_title": false,
   "title_cell": "Table of Contents",
   "title_sidebar": "Contents",
   "toc_cell": false,
   "toc_position": {},
   "toc_section_display": true,
   "toc_window_display": false
  },
  "varInspector": {
   "cols": {
    "lenName": 16,
    "lenType": 16,
    "lenVar": 40
   },
   "kernels_config": {
    "python": {
     "delete_cmd_postfix": "",
     "delete_cmd_prefix": "del ",
     "library": "var_list.py",
     "varRefreshCmd": "print(var_dic_list())"
    },
    "r": {
     "delete_cmd_postfix": ") ",
     "delete_cmd_prefix": "rm(",
     "library": "var_list.r",
     "varRefreshCmd": "cat(var_dic_list()) "
    }
   },
   "types_to_exclude": [
    "module",
    "function",
    "builtin_function_or_method",
    "instance",
    "_Feature"
   ],
   "window_display": false
  }
 },
 "nbformat": 4,
 "nbformat_minor": 5
}
