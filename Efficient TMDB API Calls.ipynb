{
 "cells": [
  {
   "cell_type": "code",
   "execution_count": 97,
   "id": "94f5dd0e",
   "metadata": {},
   "outputs": [
    {
     "data": {
      "text/plain": [
       "['results_in_austin.json',\n",
       " ' final_tmdb_data_2000.csv.gz',\n",
       " 'tmdp_api_results 2001.json',\n",
       " 'results_in_austin.csv.gz',\n",
       " 'tmdp_api_results 2000.json',\n",
       " ' final_tmdb_data_2001.csv.gz',\n",
       " '.ipynb_checkpoints']"
      ]
     },
     "execution_count": 97,
     "metadata": {},
     "output_type": "execute_result"
    }
   ],
   "source": [
    "import json, time, os\n",
    "import tmdbsimple as tmdb\n",
    "from tqdm.notebook import tqdm_notebook\n",
    "FOLDER = \"Data/\"\n",
    "os.makedirs(FOLDER, exist_ok=True)\n",
    "os.listdir(FOLDER)"
   ]
  },
  {
   "cell_type": "markdown",
   "id": "4f263925",
   "metadata": {},
   "source": [
    "# # Credentials and Accessing the API"
   ]
  },
  {
   "cell_type": "code",
   "execution_count": 98,
   "id": "657ebe6c",
   "metadata": {},
   "outputs": [],
   "source": [
    "import tmdbsimple as tmdb\n",
    "with open(\"/Users/echo/Documents/0424_Data_Enrichment/.secret/tmdb_api.json\", \"r\") as f:\n",
    "    login = json.load(f)\n",
    "## Display the keys of the loaded dict\n",
    "login.keys()    \n",
    "tmdb.API_KEY =  login['api-key']"
   ]
  },
  {
   "cell_type": "code",
   "execution_count": 99,
   "id": "39d95f36",
   "metadata": {},
   "outputs": [
    {
     "data": {
      "text/plain": [
       "{'adult': False,\n",
       " 'backdrop_path': '/hfeiSfWYujh6MKhtGTXyK3DD4nN.jpg',\n",
       " 'belongs_to_collection': None,\n",
       " 'budget': 48000000,\n",
       " 'genres': [{'id': 10749, 'name': 'Romance'},\n",
       "  {'id': 14, 'name': 'Fantasy'},\n",
       "  {'id': 35, 'name': 'Comedy'}],\n",
       " 'homepage': '',\n",
       " 'id': 11232,\n",
       " 'imdb_id': 'tt0035423',\n",
       " 'original_language': 'en',\n",
       " 'original_title': 'Kate & Leopold',\n",
       " 'overview': \"When her scientist ex-boyfriend discovers a portal to travel through time -- and brings back a 19th-century nobleman named Leopold to prove it -- a skeptical Kate reluctantly takes responsibility for showing Leopold the 21st century. The more time Kate spends with Leopold, the harder she falls for him. But if he doesn't return to his own time, his absence will forever alter history.\",\n",
       " 'popularity': 17.026,\n",
       " 'poster_path': '/mUvikzKJJSg9khrVdxK8kg3TMHA.jpg',\n",
       " 'production_companies': [{'id': 85,\n",
       "   'logo_path': None,\n",
       "   'name': 'Konrad Pictures',\n",
       "   'origin_country': ''},\n",
       "  {'id': 14,\n",
       "   'logo_path': '/m6AHu84oZQxvq7n1rsvMNJIAsMu.png',\n",
       "   'name': 'Miramax',\n",
       "   'origin_country': 'US'}],\n",
       " 'production_countries': [{'iso_3166_1': 'US',\n",
       "   'name': 'United States of America'}],\n",
       " 'release_date': '2001-12-25',\n",
       " 'revenue': 76019048,\n",
       " 'runtime': 118,\n",
       " 'spoken_languages': [{'english_name': 'French',\n",
       "   'iso_639_1': 'fr',\n",
       "   'name': 'Français'},\n",
       "  {'english_name': 'English', 'iso_639_1': 'en', 'name': 'English'},\n",
       "  {'english_name': 'Italian', 'iso_639_1': 'it', 'name': 'Italiano'}],\n",
       " 'status': 'Released',\n",
       " 'tagline': \"If they lived in the same century, they'd be perfect for each other.\",\n",
       " 'title': 'Kate & Leopold',\n",
       " 'video': False,\n",
       " 'vote_average': 6.331,\n",
       " 'vote_count': 1212}"
      ]
     },
     "execution_count": 99,
     "metadata": {},
     "output_type": "execute_result"
    }
   ],
   "source": [
    "movie = tmdb.Movies(\"tt0035423\")\n",
    "movie.info()"
   ]
  },
  {
   "cell_type": "code",
   "execution_count": 100,
   "id": "cf903cba",
   "metadata": {},
   "outputs": [],
   "source": [
    "def write_json(new_data, filename): \n",
    "    \"\"\"Appends a list of records (new_data) to a json file (filename). \n",
    "    Adapted from: https://www.geeksforgeeks.org/append-to-json-file-using-python/\"\"\"  \n",
    "    \n",
    "    with open(filename,'r+') as file:\n",
    "        # First we load existing data into a dict.\n",
    "        file_data = json.load(file)\n",
    "        ## Choose extend or append\n",
    "        if (type(new_data) == list) & (type(file_data) == list):\n",
    "            file_data.extend(new_data)\n",
    "        else:\n",
    "             file_data.append(new_data)\n",
    "        # Sets file's current position at offset.\n",
    "        file.seek(0)\n",
    "        # convert back to json.\n",
    "        json.dump(file_data, file)"
   ]
  },
  {
   "cell_type": "code",
   "execution_count": 101,
   "id": "16ce681a",
   "metadata": {},
   "outputs": [],
   "source": [
    "def get_movie_with_rating(movie_id):\n",
    "    #Get the movie object for the current id\n",
    "    movie = tmdb.Movies(movie_id)\n",
    "    #Save the .info .releases dictionaries\n",
    "    info = movie.info()\n",
    "    releases = movie.releases()\n",
    "    #Loop thru countries in releases\n",
    "    for c in releases[\"countries\"]:\n",
    "        #if the country abbreviation == US\n",
    "        if c[\"iso_3166_1\"] == \"US\":\n",
    "            #Save a certification key to new column\n",
    "            info[\"certification\"] = c[\"certification\"]\n",
    "    return info "
   ]
  },
  {
   "cell_type": "markdown",
   "id": "726c3845",
   "metadata": {},
   "source": [
    "# Load in the Title Basics data"
   ]
  },
  {
   "cell_type": "code",
   "execution_count": 102,
   "id": "66ad0a2f",
   "metadata": {},
   "outputs": [
    {
     "data": {
      "text/html": [
       "<div>\n",
       "<style scoped>\n",
       "    .dataframe tbody tr th:only-of-type {\n",
       "        vertical-align: middle;\n",
       "    }\n",
       "\n",
       "    .dataframe tbody tr th {\n",
       "        vertical-align: top;\n",
       "    }\n",
       "\n",
       "    .dataframe thead th {\n",
       "        text-align: right;\n",
       "    }\n",
       "</style>\n",
       "<table border=\"1\" class=\"dataframe\">\n",
       "  <thead>\n",
       "    <tr style=\"text-align: right;\">\n",
       "      <th></th>\n",
       "      <th>tconst</th>\n",
       "      <th>titleType</th>\n",
       "      <th>primaryTitle</th>\n",
       "      <th>originalTitle</th>\n",
       "      <th>isAdult</th>\n",
       "      <th>startYear</th>\n",
       "      <th>endYear</th>\n",
       "      <th>runtimeMinutes</th>\n",
       "      <th>genres</th>\n",
       "    </tr>\n",
       "  </thead>\n",
       "  <tbody>\n",
       "    <tr>\n",
       "      <th>0</th>\n",
       "      <td>tt0035423</td>\n",
       "      <td>movie</td>\n",
       "      <td>Kate &amp; Leopold</td>\n",
       "      <td>Kate &amp; Leopold</td>\n",
       "      <td>0</td>\n",
       "      <td>2001.0</td>\n",
       "      <td>NaN</td>\n",
       "      <td>118</td>\n",
       "      <td>Comedy,Fantasy,Romance</td>\n",
       "    </tr>\n",
       "    <tr>\n",
       "      <th>1</th>\n",
       "      <td>tt0062336</td>\n",
       "      <td>movie</td>\n",
       "      <td>The Tango of the Widower and Its Distorting Mi...</td>\n",
       "      <td>El tango del viudo y su espejo deformante</td>\n",
       "      <td>0</td>\n",
       "      <td>2020.0</td>\n",
       "      <td>NaN</td>\n",
       "      <td>70</td>\n",
       "      <td>Drama</td>\n",
       "    </tr>\n",
       "    <tr>\n",
       "      <th>2</th>\n",
       "      <td>tt0068865</td>\n",
       "      <td>movie</td>\n",
       "      <td>Lives of Performers</td>\n",
       "      <td>Lives of Performers</td>\n",
       "      <td>0</td>\n",
       "      <td>2016.0</td>\n",
       "      <td>NaN</td>\n",
       "      <td>90</td>\n",
       "      <td>Drama</td>\n",
       "    </tr>\n",
       "    <tr>\n",
       "      <th>3</th>\n",
       "      <td>tt0069049</td>\n",
       "      <td>movie</td>\n",
       "      <td>The Other Side of the Wind</td>\n",
       "      <td>The Other Side of the Wind</td>\n",
       "      <td>0</td>\n",
       "      <td>2018.0</td>\n",
       "      <td>NaN</td>\n",
       "      <td>122</td>\n",
       "      <td>Drama</td>\n",
       "    </tr>\n",
       "    <tr>\n",
       "      <th>4</th>\n",
       "      <td>tt0088751</td>\n",
       "      <td>movie</td>\n",
       "      <td>The Naked Monster</td>\n",
       "      <td>The Naked Monster</td>\n",
       "      <td>0</td>\n",
       "      <td>2005.0</td>\n",
       "      <td>NaN</td>\n",
       "      <td>100</td>\n",
       "      <td>Comedy,Horror,Sci-Fi</td>\n",
       "    </tr>\n",
       "  </tbody>\n",
       "</table>\n",
       "</div>"
      ],
      "text/plain": [
       "      tconst titleType                                       primaryTitle  \\\n",
       "0  tt0035423     movie                                     Kate & Leopold   \n",
       "1  tt0062336     movie  The Tango of the Widower and Its Distorting Mi...   \n",
       "2  tt0068865     movie                                Lives of Performers   \n",
       "3  tt0069049     movie                         The Other Side of the Wind   \n",
       "4  tt0088751     movie                                  The Naked Monster   \n",
       "\n",
       "                               originalTitle  isAdult  startYear  endYear  \\\n",
       "0                             Kate & Leopold        0     2001.0      NaN   \n",
       "1  El tango del viudo y su espejo deformante        0     2020.0      NaN   \n",
       "2                        Lives of Performers        0     2016.0      NaN   \n",
       "3                 The Other Side of the Wind        0     2018.0      NaN   \n",
       "4                          The Naked Monster        0     2005.0      NaN   \n",
       "\n",
       "   runtimeMinutes                  genres  \n",
       "0             118  Comedy,Fantasy,Romance  \n",
       "1              70                   Drama  \n",
       "2              90                   Drama  \n",
       "3             122                   Drama  \n",
       "4             100    Comedy,Horror,Sci-Fi  "
      ]
     },
     "execution_count": 102,
     "metadata": {},
     "output_type": "execute_result"
    }
   ],
   "source": [
    "import pandas as pd\n",
    "# Load in the dataframe from project part 1 as basics:\n",
    "basics = pd.read_csv(\"/Users/echo/Documents/0424_Data_Enrichment/Project-3/Data/title_basics.csv.gz\")\n",
    "basics.head()"
   ]
  },
  {
   "cell_type": "markdown",
   "id": "3fdcc545",
   "metadata": {},
   "source": [
    "# Create Required Lists for the Loop\n",
    "###  Define a list of the Years to Extract from the API"
   ]
  },
  {
   "cell_type": "code",
   "execution_count": 103,
   "id": "0717d49b",
   "metadata": {},
   "outputs": [],
   "source": [
    "YEARS_TO_GET = [2000,2001]"
   ]
  },
  {
   "cell_type": "code",
   "execution_count": 104,
   "id": "5b3a8852",
   "metadata": {},
   "outputs": [
    {
     "data": {
      "text/plain": [
       "0        tt0035423\n",
       "11       tt0114447\n",
       "15       tt0116916\n",
       "19       tt0118589\n",
       "20       tt0118652\n",
       "           ...    \n",
       "79662    tt9071078\n",
       "80118    tt9212730\n",
       "80151    tt9228234\n",
       "80938    tt9555974\n",
       "80992    tt9578462\n",
       "Name: tconst, Length: 1577, dtype: object"
      ]
     },
     "execution_count": 104,
     "metadata": {},
     "output_type": "execute_result"
    }
   ],
   "source": [
    "movie_ids_to_get = movie_ids[~movie_ids.isin(previous_df[\"imdb_id\"])]\n",
    "movie_ids_to_get"
   ]
  },
  {
   "cell_type": "code",
   "execution_count": 105,
   "id": "90dbc08b",
   "metadata": {},
   "outputs": [
    {
     "data": {
      "text/plain": [
       "{'adult': False,\n",
       " 'backdrop_path': '/hfeiSfWYujh6MKhtGTXyK3DD4nN.jpg',\n",
       " 'belongs_to_collection': None,\n",
       " 'budget': 48000000,\n",
       " 'genres': [{'id': 10749, 'name': 'Romance'},\n",
       "  {'id': 14, 'name': 'Fantasy'},\n",
       "  {'id': 35, 'name': 'Comedy'}],\n",
       " 'homepage': '',\n",
       " 'id': 11232,\n",
       " 'imdb_id': 'tt0035423',\n",
       " 'original_language': 'en',\n",
       " 'original_title': 'Kate & Leopold',\n",
       " 'overview': \"When her scientist ex-boyfriend discovers a portal to travel through time -- and brings back a 19th-century nobleman named Leopold to prove it -- a skeptical Kate reluctantly takes responsibility for showing Leopold the 21st century. The more time Kate spends with Leopold, the harder she falls for him. But if he doesn't return to his own time, his absence will forever alter history.\",\n",
       " 'popularity': 17.026,\n",
       " 'poster_path': '/mUvikzKJJSg9khrVdxK8kg3TMHA.jpg',\n",
       " 'production_companies': [{'id': 85,\n",
       "   'logo_path': None,\n",
       "   'name': 'Konrad Pictures',\n",
       "   'origin_country': ''},\n",
       "  {'id': 14,\n",
       "   'logo_path': '/m6AHu84oZQxvq7n1rsvMNJIAsMu.png',\n",
       "   'name': 'Miramax',\n",
       "   'origin_country': 'US'}],\n",
       " 'production_countries': [{'iso_3166_1': 'US',\n",
       "   'name': 'United States of America'}],\n",
       " 'release_date': '2001-12-25',\n",
       " 'revenue': 76019048,\n",
       " 'runtime': 118,\n",
       " 'spoken_languages': [{'english_name': 'French',\n",
       "   'iso_639_1': 'fr',\n",
       "   'name': 'Français'},\n",
       "  {'english_name': 'English', 'iso_639_1': 'en', 'name': 'English'},\n",
       "  {'english_name': 'Italian', 'iso_639_1': 'it', 'name': 'Italiano'}],\n",
       " 'status': 'Released',\n",
       " 'tagline': \"If they lived in the same century, they'd be perfect for each other.\",\n",
       " 'title': 'Kate & Leopold',\n",
       " 'video': False,\n",
       " 'vote_average': 6.331,\n",
       " 'vote_count': 1212,\n",
       " 'certification': 'PG-13'}"
      ]
     },
     "execution_count": 105,
     "metadata": {},
     "output_type": "execute_result"
    }
   ],
   "source": [
    "temp = get_movie_with_rating(\"tt0035423\")\n",
    "temp"
   ]
  },
  {
   "cell_type": "markdown",
   "id": "719aa56e",
   "metadata": {},
   "source": [
    "### Define an errors list"
   ]
  },
  {
   "cell_type": "code",
   "execution_count": 106,
   "id": "44ca3e35",
   "metadata": {},
   "outputs": [],
   "source": [
    "#Create empty list to append errors later on \n",
    "errors = []"
   ]
  },
  {
   "cell_type": "markdown",
   "id": "af3b4a18",
   "metadata": {},
   "source": [
    "# Start OUTER loop"
   ]
  },
  {
   "cell_type": "markdown",
   "id": "0a463dda",
   "metadata": {},
   "source": [
    "### Set up Progress Bar -> Create File ->\n",
    "The progress bar works within the for statement of the for loop. Note that this will iterate through each year that is defined in the YEARS_TO_GET variable."
   ]
  },
  {
   "cell_type": "code",
   "execution_count": 107,
   "id": "3e5a1a37",
   "metadata": {},
   "outputs": [
    {
     "data": {
      "application/vnd.jupyter.widget-view+json": {
       "model_id": "2f0b2a15a0374d05a1a1575b807d80c1",
       "version_major": 2,
       "version_minor": 0
      },
      "text/plain": [
       "YEARS:   0%|          | 0/2 [00:00<?, ?it/s]"
      ]
     },
     "metadata": {},
     "output_type": "display_data"
    },
    {
     "data": {
      "application/vnd.jupyter.widget-view+json": {
       "model_id": "6f130a615bdd4c8db2de60404bc8a65b",
       "version_major": 2,
       "version_minor": 0
      },
      "text/plain": [
       "Movies from 2000:   0%|          | 0/209 [00:00<?, ?it/s]"
      ]
     },
     "metadata": {},
     "output_type": "display_data"
    },
    {
     "data": {
      "application/vnd.jupyter.widget-view+json": {
       "model_id": "02a6e4858f864422b6d6eb306e8b30dc",
       "version_major": 2,
       "version_minor": 0
      },
      "text/plain": [
       "Movies from 2001:   0%|          | 0/234 [00:00<?, ?it/s]"
      ]
     },
     "metadata": {},
     "output_type": "display_data"
    },
    {
     "name": "stdout",
     "output_type": "stream",
     "text": [
      "- Total errors: 443\n"
     ]
    }
   ],
   "source": [
    "#Defining the JSON file to store results for each year\n",
    "JSON_FILE = f\"{FOLDER}tmdp_api_results {YEAR}.json\"\n",
    "# Check if file exists\n",
    "file_exists = os.path.isfile(JSON_FILE)\n",
    "# Start of OUTER loop\n",
    "#progress bar based on years_to_get. DESC means Description name\n",
    "for YEAR in tqdm_notebook(YEARS_TO_GET, desc=\"YEARS\", position=0):\n",
    "    # If it does not exist: create it\n",
    "    if file_exists == False:\n",
    "        # save an empty dict with just \"imdb_id\" to the new json file.\n",
    "        with open(JSON_FILE, \"w\") as f:\n",
    "            json.dump([{'imdb_id':0}],f)\n",
    "    #Saving new year as the current df\n",
    "    df = basics.loc[basics[\"startYear\"] == YEAR].copy()\n",
    "    # saving movie ids to list\n",
    "    movie_ids = df[\"tconst\"].copy()\n",
    "    # Load existing data from json into a dataframe called \"previous_df\"\n",
    "    previous_df = pd.read_json(JSON_FILE)\n",
    "    # filter out any ids that are already in the JSON_FILE\n",
    "    movie_ids_to_get = movie_ids[~movie_ids.isin(previous_df[\"imdb_id\"])]\n",
    "    \n",
    "    #Get index and movie id from list\n",
    "    # INNER Loop\n",
    "    for movie_id in tqdm_notebook(movie_ids_to_get,\n",
    "                                  desc=f'Movies from {YEAR}',\n",
    "                                  position=1,\n",
    "                                  leave=True):\n",
    "        try:\n",
    "            # Retrieve then data for the movie id\n",
    "            temp = get_movie_with_rating(movie_id)\n",
    "            # Append/extend results to existing file using a pre-made function\n",
    "            write_json(temp,JSON_FILE)\n",
    "            # Short 20 ms sleep to prevent overwhelming server\n",
    "            time.sleep(0.02)\n",
    "            \n",
    "        except Exception as e:\n",
    "            errors.append([movie_id, e])\n",
    "\n",
    "                \n",
    "    final_year_df = pd.read_json(JSON_FILE)\n",
    "    final_year_df.to_csv(f\"{FOLDER} final_tmdb_data_{YEAR}.csv.gz\",\n",
    "                        compression=\"gzip\", index=False)\n",
    "print(f\"- Total errors: {len(errors)}\")   "
   ]
  }
 ],
 "metadata": {
  "kernelspec": {
   "display_name": "Python (dojo-env)",
   "language": "python",
   "name": "dojo-env"
  },
  "language_info": {
   "codemirror_mode": {
    "name": "ipython",
    "version": 3
   },
   "file_extension": ".py",
   "mimetype": "text/x-python",
   "name": "python",
   "nbconvert_exporter": "python",
   "pygments_lexer": "ipython3",
   "version": "3.9.15"
  },
  "toc": {
   "base_numbering": 1,
   "nav_menu": {},
   "number_sections": true,
   "sideBar": true,
   "skip_h1_title": false,
   "title_cell": "Table of Contents",
   "title_sidebar": "Contents",
   "toc_cell": false,
   "toc_position": {},
   "toc_section_display": true,
   "toc_window_display": false
  },
  "varInspector": {
   "cols": {
    "lenName": 16,
    "lenType": 16,
    "lenVar": 40
   },
   "kernels_config": {
    "python": {
     "delete_cmd_postfix": "",
     "delete_cmd_prefix": "del ",
     "library": "var_list.py",
     "varRefreshCmd": "print(var_dic_list())"
    },
    "r": {
     "delete_cmd_postfix": ") ",
     "delete_cmd_prefix": "rm(",
     "library": "var_list.r",
     "varRefreshCmd": "cat(var_dic_list()) "
    }
   },
   "types_to_exclude": [
    "module",
    "function",
    "builtin_function_or_method",
    "instance",
    "_Feature"
   ],
   "window_display": false
  }
 },
 "nbformat": 4,
 "nbformat_minor": 5
}
